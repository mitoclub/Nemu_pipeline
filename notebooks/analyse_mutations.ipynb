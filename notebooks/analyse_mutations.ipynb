{
 "cells": [
  {
   "cell_type": "code",
   "execution_count": 19,
   "metadata": {},
   "outputs": [],
   "source": [
    "import os\n",
    "import sys\n",
    "import glob\n",
    "from dataclasses import dataclass, make_dataclass\n",
    "from collections import defaultdict\n",
    "from functools import reduce, partial\n",
    "from typing import Any\n",
    "\n",
    "import numpy as np\n",
    "import pandas as pd\n",
    "import matplotlib\n",
    "import matplotlib.pyplot as plt\n",
    "import seaborn as sns\n"
   ]
  },
  {
   "cell_type": "code",
   "execution_count": 60,
   "metadata": {},
   "outputs": [],
   "source": [
    "def custom_historgam(array, bins=[0.0, 0.05, 0.3, 0.5, 0.8, 1.0]):\n",
    "    hei = np.histogram(array, bins=bins)[0]\n",
    "    data = {q: x for q, x in zip(bins[1:], hei)}\n",
    "    return data"
   ]
  },
  {
   "cell_type": "code",
   "execution_count": 61,
   "metadata": {},
   "outputs": [],
   "source": [
    "data=[]\n",
    "for name in [\"human\", \"mus\"]:\n",
    "    for gene in [\"nd1\", \"cytb\"]:\n",
    "        df = pd.read_csv(f\"../data/exposure/{name}_{gene}/observed_mutations_iqtree.tsv\", sep=\"\\t\")\n",
    "        data.append([f\"{name}_{gene}\", pd.DataFrame, df])\n",
    "\n",
    "        df.groupby([\"RefNode\", \"AltNode\"]).ProbaFull.apply(custom_historgam)\\\n",
    "            .reset_index()\\\n",
    "                .rename(columns={\"level_2\": \"Bin\", \"ProbaFull\": \"Count\"})\\\n",
    "                    .to_csv(f\"../data/exposure/summary/proba_distributions/{name}_{gene}.csv\", index=False)\n",
    "\n",
    "\n",
    "muts = make_dataclass(\"mutations\", data)"
   ]
  },
  {
   "cell_type": "code",
   "execution_count": 63,
   "metadata": {},
   "outputs": [],
   "source": [
    "name = \"mammals\"\n",
    "\n",
    "for gene in [\"nd1\", \"cytb\"]:\n",
    "    df = pd.read_csv(f\"../data/exposure/{name}_{gene}/proba/mutations.tsv\", sep=\"\\t\")\n",
    "    df.groupby([\"RefNode\", \"AltNode\"]).ProbaFull.apply(custom_historgam)\\\n",
    "        .reset_index()\\\n",
    "            .rename(columns={\"level_2\": \"Bin\", \"ProbaFull\": \"Count\"})\\\n",
    "                .to_csv(f\"../data/exposure/summary/proba_distributions/{name}_{gene}.csv\", index=False)\n",
    "    break"
   ]
  },
  {
   "cell_type": "code",
   "execution_count": null,
   "metadata": {},
   "outputs": [],
   "source": []
  },
  {
   "cell_type": "code",
   "execution_count": null,
   "metadata": {},
   "outputs": [],
   "source": []
  }
 ],
 "metadata": {
  "kernelspec": {
   "display_name": "env_bio",
   "language": "python",
   "name": "python3"
  },
  "language_info": {
   "codemirror_mode": {
    "name": "ipython",
    "version": 3
   },
   "file_extension": ".py",
   "mimetype": "text/x-python",
   "name": "python",
   "nbconvert_exporter": "python",
   "pygments_lexer": "ipython3",
   "version": "3.9.13"
  },
  "orig_nbformat": 4,
  "vscode": {
   "interpreter": {
    "hash": "c737589ac25c2b5207a58295544dae93bde342e9f173b68ed1d9625ade55517f"
   }
  }
 },
 "nbformat": 4,
 "nbformat_minor": 2
}
