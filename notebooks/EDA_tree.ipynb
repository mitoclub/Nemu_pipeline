{
 "cells": [
  {
   "cell_type": "code",
   "execution_count": 34,
   "metadata": {},
   "outputs": [],
   "source": [
    "from queue import Queue\n",
    "\n",
    "import numpy as np\n",
    "import pandas as pd\n",
    "import matplotlib.pyplot as plt\n",
    "import ete3\n",
    "from ete3 import PhyloTree\n",
    "from Bio import SeqIO"
   ]
  },
  {
   "cell_type": "code",
   "execution_count": 45,
   "metadata": {},
   "outputs": [
    {
     "name": "stdout",
     "output_type": "stream",
     "text": [
      "Number of leaf nodes:\t764\n",
      "Total number of nodes:\t1526\n",
      "Rooted:\tNo\n",
      "Most distant node:\tCrypturellus_undulatus\n",
      "Max. distance:\t0.447375\n"
     ]
    }
   ],
   "source": [
    "path_to_tree = \"../data/example_birds/anc_kg.treefile\"\n",
    "\n",
    "tree = PhyloTree(path_to_tree, format=1)\n",
    "# tree: PhyloTree = tree.search_nodes(name=\"Node626\")[0]\n",
    "tree.describe()"
   ]
  },
  {
   "cell_type": "code",
   "execution_count": 35,
   "metadata": {},
   "outputs": [],
   "source": [
    "def node_parent(node):\n",
    "    try:\n",
    "        return next(node.iter_ancestors())\n",
    "    except BaseException:\n",
    "        return None"
   ]
  },
  {
   "cell_type": "code",
   "execution_count": 48,
   "metadata": {},
   "outputs": [],
   "source": [
    "def iter_tree_edges(tree: PhyloTree):\n",
    "    discovered_nodes = set()\n",
    "    discovered_nodes.add(tree.name)\n",
    "    Q = Queue()\n",
    "    Q.put(tree)\n",
    "\n",
    "    while not Q.empty():\n",
    "        cur_node = Q.get()\n",
    "        for child in cur_node.children:\n",
    "            Q.put(child)\n",
    "\n",
    "        if cur_node.name not in discovered_nodes:\n",
    "            discovered_nodes.add(cur_node.name)\n",
    "            alt_node = cur_node\n",
    "            ref_node = node_parent(alt_node)\n",
    "            yield ref_node, alt_node\n",
    "\n",
    "\n",
    "dist = []\n",
    "for ref_node, alt_node in iter_tree_edges(tree):\n",
    "    d = ref_node.get_distance(alt_node)\n",
    "    dist.append(d)"
   ]
  },
  {
   "cell_type": "code",
   "execution_count": 49,
   "metadata": {},
   "outputs": [
    {
     "data": {
      "image/png": "[encoded data removed]",
      "text/plain": [
       "<Figure size 432x288 with 1 Axes>"
      ]
     },
     "metadata": {
      "needs_background": "light"
     },
     "output_type": "display_data"
    }
   ],
   "source": [
    "pd.Series(dist).hist();"
   ]
  },
  {
   "cell_type": "code",
   "execution_count": 40,
   "metadata": {},
   "outputs": [
    {
     "data": {
      "text/plain": [
       "[('Node626', 'Node627'),\n",
       " ('Node626', 'Burhinus_bistriatus'),\n",
       " ('Node627', 'Node628'),\n",
       " ('Node627', 'Node631'),\n",
       " ('Node628', 'Node629'),\n",
       " ('Node628', 'Node630'),\n",
       " ('Node631', 'Node632'),\n",
       " ('Node631', 'Pluvialis_squatarola'),\n",
       " ('Node629', 'Charadrius_vociferus'),\n",
       " ('Node629', 'Charadrius_alexandrinus'),\n",
       " ('Node630', 'Vanellus_vanellus'),\n",
       " ('Node630', 'Vanellus_cinereus'),\n",
       " ('Node632', 'Node633'),\n",
       " ('Node632', 'Node634'),\n",
       " ('Node633', 'Recurvirostra_avosetta'),\n",
       " ('Node633', 'Himantopus_himantopus'),\n",
       " ('Node634', 'Haematopus_ostralegus'),\n",
       " ('Node634', 'Haematopus_ater')]"
      ]
     },
     "execution_count": 40,
     "metadata": {},
     "output_type": "execute_result"
    }
   ],
   "source": [
    "edges"
   ]
  },
  {
   "cell_type": "code",
   "execution_count": 25,
   "metadata": {},
   "outputs": [
    {
     "name": "stdout",
     "output_type": "stream",
     "text": [
      "\n",
      "                            /-Charadrius_vociferus\n",
      "                     /Node629\n",
      "                    |       \\-Charadrius_alexandrinus\n",
      "              /Node628\n",
      "             |      |       /-Vanellus_vanellus\n",
      "             |       \\Node630\n",
      "             |              \\-Vanellus_cinereus\n",
      "             |\n",
      "       /Node627                    /-Recurvirostra_avosetta\n",
      "      |      |              /Node633\n",
      "      |      |             |       \\-Himantopus_himantopus\n",
      "      |      |       /Node632\n",
      "      |      |      |      |       /-Haematopus_ostralegus\n",
      "-Node626      \\Node631      \\Node634\n",
      "      |             |              \\-Haematopus_ater\n",
      "      |             |\n",
      "      |              \\-Pluvialis_squatarola\n",
      "      |\n",
      "       \\-Burhinus_bistriatus\n"
     ]
    }
   ],
   "source": [
    "print(tree.get_ascii())"
   ]
  },
  {
   "cell_type": "code",
   "execution_count": null,
   "metadata": {},
   "outputs": [],
   "source": []
  },
  {
   "cell_type": "code",
   "execution_count": null,
   "metadata": {},
   "outputs": [],
   "source": []
  },
  {
   "cell_type": "code",
   "execution_count": null,
   "metadata": {},
   "outputs": [],
   "source": []
  },
  {
   "cell_type": "code",
   "execution_count": null,
   "metadata": {},
   "outputs": [],
   "source": []
  }
 ],
 "metadata": {
  "interpreter": {
   "hash": "faab97b70612bf02f352dc992d51cfde0491124dee3610712001439afebe5dcb"
  },
  "kernelspec": {
   "display_name": "Python 3.8.10 ('env_bio')",
   "language": "python",
   "name": "python3"
  },
  "language_info": {
   "codemirror_mode": {
    "name": "ipython",
    "version": 3
   },
   "file_extension": ".py",
   "mimetype": "text/x-python",
   "name": "python",
   "nbconvert_exporter": "python",
   "pygments_lexer": "ipython3",
   "version": "3.8.10"
  },
  "orig_nbformat": 4
 },
 "nbformat": 4,
 "nbformat_minor": 2
}
