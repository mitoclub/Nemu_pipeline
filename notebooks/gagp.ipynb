{
 "cells": [
  {
   "cell_type": "code",
   "execution_count": 1,
   "metadata": {},
   "outputs": [],
   "source": [
    "import os\n",
    "import re\n",
    "import sys\n",
    "import glob\n",
    "from collections import defaultdict\n",
    "from functools import reduce, partial\n",
    "import warnings\n",
    "warnings.filterwarnings(\"ignore\")\n",
    "\n",
    "import numpy as np\n",
    "import pandas as pd\n",
    "import matplotlib\n",
    "import matplotlib.pyplot as plt\n",
    "import matplotlib.ticker as ticker\n",
    "import seaborn as sns\n",
    "from scipy import spatial\n",
    "import ete3\n",
    "from ete3 import PhyloTree\n",
    "from Bio import SeqIO\n",
    "from Bio import pairwise2, SeqRecord, Seq\n",
    "from Bio.Data import CodonTable\n",
    "\n",
    "import pymutspec\n",
    "from pymutspec.annotation import mutations_summary, calculate_mutspec, lbl_id2lbl, lbl2lbl_id, CodonAnnotation\n",
    "from pymutspec.constants import possible_sbs192, possible_sbs12\n",
    "from pymutspec.io import GenesStates"
   ]
  },
  {
   "attachments": {},
   "cell_type": "markdown",
   "metadata": {},
   "source": [
    "### Mammals"
   ]
  },
  {
   "cell_type": "code",
   "execution_count": 4,
   "metadata": {},
   "outputs": [
    {
     "data": {
      "text/plain": [
       "'Cociella crocodila voucher HABs-2016-007 mitochondrion, complete genome'"
      ]
     },
     "execution_count": 4,
     "metadata": {},
     "output_type": "execute_result"
    }
   ],
   "source": [
    "ref = next(SeqIO.parse(\"../data/mammals/raw/outgrp.gb\", format=\"gb\"))\n",
    "ref.description"
   ]
  },
  {
   "cell_type": "code",
   "execution_count": 6,
   "metadata": {},
   "outputs": [],
   "source": [
    "for f in ref.features:\n",
    "    if f.type == \"CDS\":\n",
    "        if f.qualifiers[\"gene\"] == ['CYTB']:\n",
    "            cytb = str(f.extract(ref.seq))\n",
    "        if f.qualifiers[\"gene\"] == ['ND1']:\n",
    "            nd1 = str(f.extract(ref.seq))"
   ]
  },
  {
   "cell_type": "code",
   "execution_count": 7,
   "metadata": {},
   "outputs": [
    {
     "name": "stdout",
     "output_type": "stream",
     "text": [
      "ATGGCCAACTTACGAAAAACCCACCCCTTACTCAAAATTGCTAACAATGCTTTAGTAGACCTCCCCGCCCCCTCCAACATCTCCGCATGATGAAACTTTGGGTCCCTTTTAGGACTATGCTTAATTATCCAAATCCTCTCAGGCTTATTTCTAGCTATACATTACACATCAGATGTCGCTACAGCCTTCTCCTCCGTTGCCCACATCTGCCGAGACGTAAATTACGGCTGGCTAATTCGCAATCTCCACGCAAACGGAGCATCATTCTTTTTTATCTGCATTTATATACACATCGGACGCGGCCTCTACTACGGATCATACCTTTTTAAAGAGACATGAAACATTGGCGTCGTGCTCTTGCTCCTCGTAATAGTCACCGCTTTCGTGGGCTACGTCCTCCCCTGAGGACAAATATCATTCTGAGGCGCCACGGTTATTACCAACCTTCTGTCCGCCGTCCCTTATATTGGTAACACCCTCGTTCAATGAATCTGAGGAGGCTTCTCAGTAGATAATGCTACATTAAACCGTTTCTTCGCGTTCCATTTCCTTTTCCCGTTCATCATCGCAGCCGCCACTATAATCCACCTTCTATTCCTTCACCAAACTGGTTCTAACAACCCGCTTGGGCTATGGCTCAACACAGACAAAATTTCCTTCCACCCCTACTTCTCATATAAAGACCTCTTAGGGTTCGCAGGCCTTCTACTGACCTTAACAGCTTTAGCACTTTTTTCTCCCAACCTCTTAGGAGATCCTGATAACTTCACCCCGGCCAACCCCCTCGTAACCCCTCCCCATATTAAACCAGAATGATACTTCTTATTTGCATACGCTATTCTCCGCTCAATCCCTAATAAACTAGGAGGCGTACTAGCCCTCCTAGCCTCAATCTTAATTCTCATACTAATCCCGATTCTTCACACATCAAAACAACGAAGTTTAACATTCCGCCCTGTCTCTCAACTCCTGTTCTGGGCCCTTATTGCAGACGTCGCAATCTTAACTTGAATTGGGGGGATACCAGTAGAGGACCCGTTTATTGTTATTGGCCAAATTGCATCCCTTCTATACTTCACCTTATTCCTGCTCTTTCACCCACTAACAGCCCTGGTAGAAAACAAAGCCTTAGGATGATCCT\n",
      "ATGTCCTCAATACTTATTATTCAAGCAGTTAGCCCCCTAACTTTTATTATCCCCGTCCTTCTAGCCGTTGCATTCCTCACATTACTTGAACGGAAAGTTCTAGGGTACATACAACTACGCAAGGCCCCAAACATCGTAGGGCCCTTTGGATTATTTCAACCTATTGCGGATGGTGTTAAACTCTTTATCAAAGAGCCCGTACGACCATCAACCGCCTCCCCCCTCCTATTTATTTTAGCCCCCATCCTCGCACTTACACTTGCACTCACCCTTTGGGCCCCCATGCCCTTACCTCACCCATTCGTTGATATAAACCTAGGAGTCCTATTTGTCCTAGCCATTTCTAGCCTAGCAGTATACTCTATTTTAGGCTCAGGATGAGCATCAAACTCAAAGTACGCACTAATAGGAGCATTACGAGCCGTAGCCCAAACCATTTCCTACGAAGTGAGCCTAGGACTTATCCTACTCAACATTATTATTTTCGTAGGAGGCTTCACACTACAAACATTCAACACTGCTCAAGAGAGCATCTGACTTATCGCCCCTGCTTGACCCCTAGCAGCAATATGATACATCTCCACCCTAGCAGAGACAAACCGAGCACCTTTTGATTTAACTGAAGGAGAATCAGAGCTAGTATCTGGGTTTAACGTAGAATATGCAGGAGGCCCCTTCGCATTGTTCTTCCTAGCAGAATACTCAAACATCTTGCTTATAAATACCCTATCAACTATCTTATTTATAGGAGCCGCTCTCATACCAACAATCCCCTTACTAACCACTATAAACCTTATAACTAAAGCAGCACTACTATCCGTTATTTTTCTTTGGGTGCGGGCCTCATACCCTCGATTCCGATACGACCAACTAATGCACTTAATCTGAAAAAACTTCCTTCCACTCGCATTAGCCCTGATTATCTGACATCTAGCTCTCCCAATCTCACTTTCAGGACTCCCCCCAAAATTATAA\n"
     ]
    }
   ],
   "source": [
    "print(cytb)\n",
    "print(nd1)"
   ]
  },
  {
   "attachments": {},
   "cell_type": "markdown",
   "metadata": {},
   "source": [
    "## Data"
   ]
  },
  {
   "cell_type": "code",
   "execution_count": 12,
   "metadata": {},
   "outputs": [],
   "source": [
    "ref = pymutspec.io.read_genbank_ref(\"../data/NC_012920.1.gb\")"
   ]
  },
  {
   "cell_type": "code",
   "execution_count": 3,
   "metadata": {},
   "outputs": [],
   "source": [
    "def get_gene(gname: str):\n",
    "    \"\"\"\n",
    "    ['ND1', 'ND2', 'COX1', 'COX2', 'ATP8', 'ATP6', 'COX3', 'ND3',\n",
    "       'ND4L', 'ND4', 'ND5', 'ND6', 'CYTB']\n",
    "    \"\"\"\n",
    "    seq = \"\".join(ref[ref.GeneName == gname].Nuc.values)\n",
    "    return seq "
   ]
  },
  {
   "cell_type": "code",
   "execution_count": 30,
   "metadata": {},
   "outputs": [
    {
     "name": "stdout",
     "output_type": "stream",
     "text": [
      "ND1\n",
      "MPMANLLLLIVPILIAMAFLMLTERKILGYMQLRKGPNVVGPYGLLQPFADAMKLFTKEPLKPATSTITLYITAPTLALTIALLLWTPLPMPNPLVNLNLGLLFILATSSLAVYSILWSGWASNSNYALIGALRAVAQTISYEVTLAIILLSTLLMSGSFNLSTLITTQEHLWLLLPSWPLAMMWFISTLAETNRTPFDLAEGESELVSGFNIEYAAGPFALFFMAEYTNIIMMNTLTTTIFLGTTYDALSPELYTTYFVTKTLLLTSLFLWIRTAYPRFRYDQLMHLLWKNFLPLTLALLMWYVSMPITISSIPPQT\n",
      "\n",
      "CYTB\n",
      "MTPMRKTNPLMKLINHSFIDLPTPSNISAWWNFGSLLGACLILQITTGLFLAMHYSPDASTAFSSIAHITRDVNYGWIIRYLHANGASMFFICLFLHIGRGLYYGSFLYSETWNIGIILLLATMATAFMGYVLPWGQMSFWGATVITNLLSAIPYIGTDLVQWIWGGYSVDSPTLTRFFTFHFILPFIIAALATLHLLFLHETGSNNPLGITSHSDKITFHPYYTIKDALGLLLFLLSLMTLTLFSPDLLGDPDNYTLANPLNTPPHIKPEWYFLFAYTILRSVPNKLGGVLALLLSILILAMIPILHMSKQQSMMFRPLSQSLYWLLAADLLILTWIGGQPVSYPFTIIGQVASVLYFTTILILMPTISLIENKMLKWA\n",
      "\n"
     ]
    }
   ],
   "source": [
    "ct = CodonTable.unambiguous_dna_by_id[2]\n",
    "\n",
    "for g in ['ND1', 'CYTB']:\n",
    "    s = Seq.Seq(get_gene(g))\n",
    "    print(g)\n",
    "    print(str(s.translate(2)))\n",
    "    print()"
   ]
  },
  {
   "attachments": {},
   "cell_type": "markdown",
   "metadata": {},
   "source": [
    "### Extract genes from alignment of genomes"
   ]
  },
  {
   "cell_type": "code",
   "execution_count": 79,
   "metadata": {},
   "outputs": [],
   "source": [
    "genomes = []\n",
    "genes = {}\n",
    "for rec in SeqIO.parse(\"../data/GAGP/Mitochondria_GreatApes.muscle2.fasta2line\", format=\"fasta\"):\n",
    "    if rec.id in ['ND1', 'ND2', 'COX1', 'COX2', 'ATP8', 'ATP6', 'COX3', 'ND3', 'ND4L', 'ND4', 'ND5', 'ND6', 'CYTB']:\n",
    "        genes[rec.id] = str(rec.seq)\n",
    "    else:\n",
    "        genomes.append(rec)"
   ]
  },
  {
   "cell_type": "code",
   "execution_count": 82,
   "metadata": {},
   "outputs": [],
   "source": [
    "genes_pos = {}\n",
    "for g, seq in genes.items():\n",
    "    m = re.match(\"(-+)(\\w+)(-+)\", seq)\n",
    "    n = len(seq)\n",
    "    if sum([len(x) for x in m.groups()]) == n:\n",
    "        gaps_up, _, gaps_down = m.groups()\n",
    "        p1 = len(gaps_up)\n",
    "        p2 = n - len(gaps_down)\n",
    "        genes_pos[g] = tuple((p1, p2))\n",
    "    else:\n",
    "        print(\"errror\")\n",
    "        break"
   ]
  },
  {
   "cell_type": "code",
   "execution_count": 107,
   "metadata": {},
   "outputs": [
    {
     "data": {
      "text/plain": [
       "{'ND6': (13620, 14145),\n",
       " 'COX3': (8677, 9461),\n",
       " 'ND3': (9529, 9875),\n",
       " 'ND4L': (9940, 10230),\n",
       " 'ATP6': (7997, 8677),\n",
       " 'ND5': (11808, 13620),\n",
       " 'ATP8': (7836, 7997),\n",
       " 'COX2': (7038, 7722),\n",
       " 'COX1': (5355, 6897),\n",
       " 'ND1': (2741, 3697),\n",
       " 'ND2': (3904, 4946),\n",
       " 'ND4': (10230, 11608),\n",
       " 'CYTB': (14218, 15359)}"
      ]
     },
     "execution_count": 107,
     "metadata": {},
     "output_type": "execute_result"
    }
   ],
   "source": [
    "genes_pos"
   ]
  },
  {
   "cell_type": "code",
   "execution_count": 109,
   "metadata": {},
   "outputs": [],
   "source": [
    "new_records = []\n",
    "for gene, (p1, p2) in genes_pos.items():\n",
    "    grec = []\n",
    "    for genome in genomes:\n",
    "        seq = genome.seq[p1: p2]\n",
    "        idx = genome.id + \"_\" + gene\n",
    "        r = SeqRecord.SeqRecord(seq, idx, idx, idx)\n",
    "        new_records.append(r)\n",
    "        grec.append(r)\n",
    "\n",
    "    with open(f\"../data/GAGP/genes/{gene}.fna\", \"w\") as handle:\n",
    "        SeqIO.write(grec, handle, \"fasta-2line\")\n",
    "\n",
    "# with open(\"../data/GAGP/genes.fna\", \"w\") as handle:\n",
    "#     SeqIO.write(new_records, handle, \"fasta-2line\")"
   ]
  },
  {
   "attachments": {},
   "cell_type": "markdown",
   "metadata": {},
   "source": [
    "## Calculate exp ms"
   ]
  },
  {
   "attachments": {},
   "cell_type": "markdown",
   "metadata": {},
   "source": [
    "### HUMAN"
   ]
  },
  {
   "cell_type": "code",
   "execution_count": 9,
   "metadata": {},
   "outputs": [],
   "source": [
    "path_to_hrates = \"../data/human_rates/\"\n",
    "data = []\n",
    "for p in glob.glob(path_to_hrates + \"*.rate\"):\n",
    "    d = pd.read_csv(p, sep=\"\\t\", comment=\"#\")\n",
    "    d[\"Gene\"] = os.path.basename(p).replace(\".rate\", \"\")\n",
    "    data.append(d)\n",
    "hrates = pd.concat(data)"
   ]
  },
  {
   "cell_type": "code",
   "execution_count": 10,
   "metadata": {},
   "outputs": [
    {
     "data": {
      "text/html": [
       "<div>\n",
       "<style scoped>\n",
       "    .dataframe tbody tr th:only-of-type {\n",
       "        vertical-align: middle;\n",
       "    }\n",
       "\n",
       "    .dataframe tbody tr th {\n",
       "        vertical-align: top;\n",
       "    }\n",
       "\n",
       "    .dataframe thead th {\n",
       "        text-align: right;\n",
       "    }\n",
       "</style>\n",
       "<table border=\"1\" class=\"dataframe\">\n",
       "  <thead>\n",
       "    <tr style=\"text-align: right;\">\n",
       "      <th>Cat</th>\n",
       "      <th>0</th>\n",
       "      <th>1</th>\n",
       "      <th>2</th>\n",
       "      <th>3</th>\n",
       "      <th>4</th>\n",
       "      <th>5</th>\n",
       "    </tr>\n",
       "    <tr>\n",
       "      <th>Gene</th>\n",
       "      <th></th>\n",
       "      <th></th>\n",
       "      <th></th>\n",
       "      <th></th>\n",
       "      <th></th>\n",
       "      <th></th>\n",
       "    </tr>\n",
       "  </thead>\n",
       "  <tbody>\n",
       "    <tr>\n",
       "      <th>ATP6</th>\n",
       "      <td>425</td>\n",
       "      <td>0</td>\n",
       "      <td>11</td>\n",
       "      <td>23</td>\n",
       "      <td>0</td>\n",
       "      <td>219</td>\n",
       "    </tr>\n",
       "    <tr>\n",
       "      <th>ATP8</th>\n",
       "      <td>90</td>\n",
       "      <td>1</td>\n",
       "      <td>11</td>\n",
       "      <td>2</td>\n",
       "      <td>23</td>\n",
       "      <td>32</td>\n",
       "    </tr>\n",
       "    <tr>\n",
       "      <th>COX1</th>\n",
       "      <td>1129</td>\n",
       "      <td>0</td>\n",
       "      <td>0</td>\n",
       "      <td>5</td>\n",
       "      <td>42</td>\n",
       "      <td>366</td>\n",
       "    </tr>\n",
       "    <tr>\n",
       "      <th>COX2</th>\n",
       "      <td>506</td>\n",
       "      <td>0</td>\n",
       "      <td>0</td>\n",
       "      <td>0</td>\n",
       "      <td>170</td>\n",
       "      <td>8</td>\n",
       "    </tr>\n",
       "    <tr>\n",
       "      <th>COX3</th>\n",
       "      <td>567</td>\n",
       "      <td>0</td>\n",
       "      <td>0</td>\n",
       "      <td>216</td>\n",
       "      <td>0</td>\n",
       "      <td>0</td>\n",
       "    </tr>\n",
       "    <tr>\n",
       "      <th>CYTB</th>\n",
       "      <td>797</td>\n",
       "      <td>2</td>\n",
       "      <td>0</td>\n",
       "      <td>0</td>\n",
       "      <td>0</td>\n",
       "      <td>341</td>\n",
       "    </tr>\n",
       "    <tr>\n",
       "      <th>ND1</th>\n",
       "      <td>249</td>\n",
       "      <td>0</td>\n",
       "      <td>0</td>\n",
       "      <td>697</td>\n",
       "      <td>0</td>\n",
       "      <td>8</td>\n",
       "    </tr>\n",
       "    <tr>\n",
       "      <th>ND2</th>\n",
       "      <td>699</td>\n",
       "      <td>3</td>\n",
       "      <td>0</td>\n",
       "      <td>0</td>\n",
       "      <td>339</td>\n",
       "      <td>0</td>\n",
       "    </tr>\n",
       "    <tr>\n",
       "      <th>ND3</th>\n",
       "      <td>231</td>\n",
       "      <td>9</td>\n",
       "      <td>0</td>\n",
       "      <td>0</td>\n",
       "      <td>0</td>\n",
       "      <td>105</td>\n",
       "    </tr>\n",
       "    <tr>\n",
       "      <th>ND4</th>\n",
       "      <td>949</td>\n",
       "      <td>11</td>\n",
       "      <td>0</td>\n",
       "      <td>0</td>\n",
       "      <td>0</td>\n",
       "      <td>417</td>\n",
       "    </tr>\n",
       "    <tr>\n",
       "      <th>ND4L</th>\n",
       "      <td>207</td>\n",
       "      <td>0</td>\n",
       "      <td>0</td>\n",
       "      <td>0</td>\n",
       "      <td>0</td>\n",
       "      <td>81</td>\n",
       "    </tr>\n",
       "    <tr>\n",
       "      <th>ND5</th>\n",
       "      <td>1191</td>\n",
       "      <td>17</td>\n",
       "      <td>0</td>\n",
       "      <td>0</td>\n",
       "      <td>0</td>\n",
       "      <td>604</td>\n",
       "    </tr>\n",
       "    <tr>\n",
       "      <th>ND6</th>\n",
       "      <td>401</td>\n",
       "      <td>0</td>\n",
       "      <td>0</td>\n",
       "      <td>0</td>\n",
       "      <td>1</td>\n",
       "      <td>123</td>\n",
       "    </tr>\n",
       "  </tbody>\n",
       "</table>\n",
       "</div>"
      ],
      "text/plain": [
       "Cat      0   1   2    3    4    5\n",
       "Gene                             \n",
       "ATP6   425   0  11   23    0  219\n",
       "ATP8    90   1  11    2   23   32\n",
       "COX1  1129   0   0    5   42  366\n",
       "COX2   506   0   0    0  170    8\n",
       "COX3   567   0   0  216    0    0\n",
       "CYTB   797   2   0    0    0  341\n",
       "ND1    249   0   0  697    0    8\n",
       "ND2    699   3   0    0  339    0\n",
       "ND3    231   9   0    0    0  105\n",
       "ND4    949  11   0    0    0  417\n",
       "ND4L   207   0   0    0    0   81\n",
       "ND5   1191  17   0    0    0  604\n",
       "ND6    401   0   0    0    1  123"
      ]
     },
     "execution_count": 10,
     "metadata": {},
     "output_type": "execute_result"
    }
   ],
   "source": [
    "hrates_cats = hrates.groupby(\"Gene\").Cat.value_counts().reset_index(name=\"N\").pivot(\"Gene\", \"Cat\", \"N\").fillna(0).astype(np.int16)\n",
    "hrates_cats"
   ]
  },
  {
   "cell_type": "code",
   "execution_count": 11,
   "metadata": {},
   "outputs": [
    {
     "data": {
      "image/png": "[encoded data removed]",
      "text/plain": [
       "<Figure size 640x480 with 2 Axes>"
      ]
     },
     "metadata": {},
     "output_type": "display_data"
    }
   ],
   "source": [
    "plt.title(\"Gamma-distribution category frequency for human genes\")\n",
    "sns.heatmap((hrates_cats.T / hrates_cats.sum(axis=1)).T, annot=True, cmap=\"Reds\", fmt=\".2f\", vmax=1);\n",
    "plt.vlines([2], 0, 13, 'k', linewidth=3)\n",
    "plt.savefig(\"../figures/human_rates.png\", dpi=300)\n",
    "plt.show()"
   ]
  },
  {
   "attachments": {},
   "cell_type": "markdown",
   "metadata": {},
   "source": [
    "### MUS"
   ]
  },
  {
   "cell_type": "code",
   "execution_count": 12,
   "metadata": {},
   "outputs": [],
   "source": [
    "path_to_hrates = \"../data/mus_rates/\"\n",
    "data = []\n",
    "for p in glob.glob(path_to_hrates + \"*.rate\"):\n",
    "    d = pd.read_csv(p, sep=\"\\t\", comment=\"#\")\n",
    "    d[\"Gene\"] = os.path.basename(p).replace(\".rate\", \"\")\n",
    "    data.append(d)\n",
    "hrates = pd.concat(data)"
   ]
  },
  {
   "cell_type": "code",
   "execution_count": 13,
   "metadata": {},
   "outputs": [
    {
     "data": {
      "text/html": [
       "<div>\n",
       "<style scoped>\n",
       "    .dataframe tbody tr th:only-of-type {\n",
       "        vertical-align: middle;\n",
       "    }\n",
       "\n",
       "    .dataframe tbody tr th {\n",
       "        vertical-align: top;\n",
       "    }\n",
       "\n",
       "    .dataframe thead th {\n",
       "        text-align: right;\n",
       "    }\n",
       "</style>\n",
       "<table border=\"1\" class=\"dataframe\">\n",
       "  <thead>\n",
       "    <tr style=\"text-align: right;\">\n",
       "      <th>Cat</th>\n",
       "      <th>0</th>\n",
       "      <th>1</th>\n",
       "      <th>2</th>\n",
       "      <th>3</th>\n",
       "      <th>4</th>\n",
       "      <th>5</th>\n",
       "    </tr>\n",
       "    <tr>\n",
       "      <th>Gene</th>\n",
       "      <th></th>\n",
       "      <th></th>\n",
       "      <th></th>\n",
       "      <th></th>\n",
       "      <th></th>\n",
       "      <th></th>\n",
       "    </tr>\n",
       "  </thead>\n",
       "  <tbody>\n",
       "    <tr>\n",
       "      <th>ATP6</th>\n",
       "      <td>0</td>\n",
       "      <td>0</td>\n",
       "      <td>0</td>\n",
       "      <td>567</td>\n",
       "      <td>82</td>\n",
       "      <td>29</td>\n",
       "    </tr>\n",
       "    <tr>\n",
       "      <th>ATP8</th>\n",
       "      <td>141</td>\n",
       "      <td>0</td>\n",
       "      <td>0</td>\n",
       "      <td>53</td>\n",
       "      <td>0</td>\n",
       "      <td>7</td>\n",
       "    </tr>\n",
       "    <tr>\n",
       "      <th>COX1</th>\n",
       "      <td>1071</td>\n",
       "      <td>28</td>\n",
       "      <td>11</td>\n",
       "      <td>0</td>\n",
       "      <td>394</td>\n",
       "      <td>38</td>\n",
       "    </tr>\n",
       "    <tr>\n",
       "      <th>COX2</th>\n",
       "      <td>464</td>\n",
       "      <td>35</td>\n",
       "      <td>0</td>\n",
       "      <td>0</td>\n",
       "      <td>165</td>\n",
       "      <td>17</td>\n",
       "    </tr>\n",
       "    <tr>\n",
       "      <th>COX3</th>\n",
       "      <td>566</td>\n",
       "      <td>0</td>\n",
       "      <td>0</td>\n",
       "      <td>203</td>\n",
       "      <td>0</td>\n",
       "      <td>14</td>\n",
       "    </tr>\n",
       "    <tr>\n",
       "      <th>CYTB</th>\n",
       "      <td>760</td>\n",
       "      <td>0</td>\n",
       "      <td>0</td>\n",
       "      <td>333</td>\n",
       "      <td>0</td>\n",
       "      <td>50</td>\n",
       "    </tr>\n",
       "    <tr>\n",
       "      <th>ND1</th>\n",
       "      <td>634</td>\n",
       "      <td>0</td>\n",
       "      <td>0</td>\n",
       "      <td>0</td>\n",
       "      <td>257</td>\n",
       "      <td>63</td>\n",
       "    </tr>\n",
       "    <tr>\n",
       "      <th>ND2</th>\n",
       "      <td>595</td>\n",
       "      <td>68</td>\n",
       "      <td>24</td>\n",
       "      <td>0</td>\n",
       "      <td>332</td>\n",
       "      <td>16</td>\n",
       "    </tr>\n",
       "    <tr>\n",
       "      <th>ND3</th>\n",
       "      <td>0</td>\n",
       "      <td>332</td>\n",
       "      <td>0</td>\n",
       "      <td>0</td>\n",
       "      <td>12</td>\n",
       "      <td>1</td>\n",
       "    </tr>\n",
       "    <tr>\n",
       "      <th>ND4</th>\n",
       "      <td>893</td>\n",
       "      <td>2</td>\n",
       "      <td>0</td>\n",
       "      <td>524</td>\n",
       "      <td>0</td>\n",
       "      <td>0</td>\n",
       "    </tr>\n",
       "    <tr>\n",
       "      <th>ND4L</th>\n",
       "      <td>171</td>\n",
       "      <td>0</td>\n",
       "      <td>0</td>\n",
       "      <td>0</td>\n",
       "      <td>63</td>\n",
       "      <td>60</td>\n",
       "    </tr>\n",
       "    <tr>\n",
       "      <th>ND5</th>\n",
       "      <td>1166</td>\n",
       "      <td>0</td>\n",
       "      <td>0</td>\n",
       "      <td>11</td>\n",
       "      <td>0</td>\n",
       "      <td>584</td>\n",
       "    </tr>\n",
       "    <tr>\n",
       "      <th>ND6</th>\n",
       "      <td>350</td>\n",
       "      <td>1</td>\n",
       "      <td>0</td>\n",
       "      <td>0</td>\n",
       "      <td>152</td>\n",
       "      <td>13</td>\n",
       "    </tr>\n",
       "  </tbody>\n",
       "</table>\n",
       "</div>"
      ],
      "text/plain": [
       "Cat      0    1   2    3    4    5\n",
       "Gene                              \n",
       "ATP6     0    0   0  567   82   29\n",
       "ATP8   141    0   0   53    0    7\n",
       "COX1  1071   28  11    0  394   38\n",
       "COX2   464   35   0    0  165   17\n",
       "COX3   566    0   0  203    0   14\n",
       "CYTB   760    0   0  333    0   50\n",
       "ND1    634    0   0    0  257   63\n",
       "ND2    595   68  24    0  332   16\n",
       "ND3      0  332   0    0   12    1\n",
       "ND4    893    2   0  524    0    0\n",
       "ND4L   171    0   0    0   63   60\n",
       "ND5   1166    0   0   11    0  584\n",
       "ND6    350    1   0    0  152   13"
      ]
     },
     "execution_count": 13,
     "metadata": {},
     "output_type": "execute_result"
    }
   ],
   "source": [
    "hrates_cats = hrates.groupby(\"Gene\").Cat.value_counts().reset_index(name=\"N\").pivot(\"Gene\", \"Cat\", \"N\").fillna(0).astype(np.int16)\n",
    "hrates_cats"
   ]
  },
  {
   "cell_type": "code",
   "execution_count": 14,
   "metadata": {},
   "outputs": [
    {
     "data": {
      "image/png": "[encoded data removed]",
      "text/plain": [
       "<Figure size 640x480 with 2 Axes>"
      ]
     },
     "metadata": {},
     "output_type": "display_data"
    }
   ],
   "source": [
    "plt.title(\"Gamma-distribution category frequency for mus musculus genes\")\n",
    "sns.heatmap((hrates_cats.T / hrates_cats.sum(axis=1)).T, annot=True, cmap=\"Reds\", fmt=\".2f\", vmax=1);\n",
    "plt.vlines([2], 0, 13, 'k', linewidth=3)\n",
    "plt.savefig(\"../figures/mus_rates.png\", dpi=300)\n",
    "plt.show()"
   ]
  },
  {
   "cell_type": "code",
   "execution_count": null,
   "metadata": {},
   "outputs": [],
   "source": []
  },
  {
   "attachments": {},
   "cell_type": "markdown",
   "metadata": {},
   "source": [
    "## Expected mutations excluding invariant positions"
   ]
  },
  {
   "cell_type": "code",
   "execution_count": 2,
   "metadata": {},
   "outputs": [],
   "source": [
    "coda = CodonAnnotation(2)"
   ]
  },
  {
   "cell_type": "code",
   "execution_count": 16,
   "metadata": {},
   "outputs": [],
   "source": [
    "human_cytb = [str(x.seq) for x in SeqIO.parse(\"../data/exposure/human_cytb/alignment_checked.fasta\", format=\"fasta\")]\n",
    "human_nd1 = [str(x.seq) for x in SeqIO.parse(\"../data/exposure/human_nd1/alignment_checked.fasta\", format=\"fasta\")]\n",
    "human_cytb_mask = GenesStates.get_mask(GenesStates.read_rates(\"../data/exposure/human_cytb/CYTB.rate\"))[1]\n",
    "human_nd1_mask = GenesStates.get_mask(GenesStates.read_rates(\"../data/exposure/human_nd1/ND1.rate\"))[1]\n",
    "\n",
    "mus_cytb = [str(x.seq) for x in SeqIO.parse(\"../data/exposure/mus_cytb/alignment_checked.fasta\", format=\"fasta\")]\n",
    "mus_nd1 = [str(x.seq) for x in SeqIO.parse(\"../data/exposure/mus_nd1/alignment_checked.fasta\", format=\"fasta\")]\n",
    "mus_cytb_mask = GenesStates.get_mask(GenesStates.read_rates(\"../data/exposure/mus_cytb/CYTB.rate\"))[1]\n",
    "mus_nd1_mask = GenesStates.get_mask(GenesStates.read_rates(\"../data/exposure/mus_nd1/ND1.rate\"))[1]"
   ]
  },
  {
   "cell_type": "code",
   "execution_count": 17,
   "metadata": {},
   "outputs": [
    {
     "data": {
      "text/plain": [
       "(340, (1137,))"
      ]
     },
     "execution_count": 17,
     "metadata": {},
     "output_type": "execute_result"
    }
   ],
   "source": [
    "human_cytb_mask.sum(), human_cytb_mask.shape"
   ]
  },
  {
   "cell_type": "code",
   "execution_count": 18,
   "metadata": {},
   "outputs": [
    {
     "data": {
      "text/plain": [
       "(705, (954,))"
      ]
     },
     "execution_count": 18,
     "metadata": {},
     "output_type": "execute_result"
    }
   ],
   "source": [
    "human_nd1_mask.sum(), human_nd1_mask.shape"
   ]
  },
  {
   "cell_type": "code",
   "execution_count": 19,
   "metadata": {},
   "outputs": [
    {
     "data": {
      "text/plain": [
       "(383, (1140,))"
      ]
     },
     "execution_count": 19,
     "metadata": {},
     "output_type": "execute_result"
    }
   ],
   "source": [
    "mus_cytb_mask.sum(), mus_cytb_mask.shape"
   ]
  },
  {
   "cell_type": "code",
   "execution_count": 20,
   "metadata": {},
   "outputs": [
    {
     "data": {
      "text/plain": [
       "(290, (885,))"
      ]
     },
     "execution_count": 20,
     "metadata": {},
     "output_type": "execute_result"
    }
   ],
   "source": [
    "mus_nd1_mask.sum(), mus_nd1_mask.shape"
   ]
  },
  {
   "cell_type": "code",
   "execution_count": 7,
   "metadata": {},
   "outputs": [],
   "source": [
    "lbl = \"syn\""
   ]
  },
  {
   "attachments": {},
   "cell_type": "markdown",
   "metadata": {},
   "source": [
    "### Human CYTB"
   ]
  },
  {
   "cell_type": "code",
   "execution_count": 100,
   "metadata": {},
   "outputs": [],
   "source": [
    "exp12, exp192 = defaultdict(int), defaultdict(int)\n",
    "exp_masked12, exp_masked192 = defaultdict(int), defaultdict(int)\n",
    "for seq in human_cytb:\n",
    "    e12, e192  =  coda.collect_exp_mut_freqs(seq, None, [lbl])\n",
    "    em12, em192 = coda.collect_exp_mut_freqs(seq, human_cytb_mask, [lbl])\n",
    "\n",
    "    for sbs in e12[lbl]:\n",
    "        exp12[sbs] += e12[lbl][sbs] / len(human_cytb)\n",
    "        exp_masked12[sbs] += em12[lbl][sbs] / len(human_cytb)\n",
    "\n",
    "    for sbs in e192[lbl]:\n",
    "        exp192[sbs] += e192[lbl][sbs] / len(human_cytb)\n",
    "        exp_masked192[sbs] += em192[lbl][sbs] / len(human_cytb)\n"
   ]
  },
  {
   "cell_type": "code",
   "execution_count": 94,
   "metadata": {},
   "outputs": [
    {
     "data": {
      "text/html": [
       "<div>\n",
       "<style scoped>\n",
       "    .dataframe tbody tr th:only-of-type {\n",
       "        vertical-align: middle;\n",
       "    }\n",
       "\n",
       "    .dataframe tbody tr th {\n",
       "        vertical-align: top;\n",
       "    }\n",
       "\n",
       "    .dataframe thead th {\n",
       "        text-align: right;\n",
       "    }\n",
       "</style>\n",
       "<table border=\"1\" class=\"dataframe\">\n",
       "  <thead>\n",
       "    <tr style=\"text-align: right;\">\n",
       "      <th></th>\n",
       "      <th>G&gt;A</th>\n",
       "      <th>C&gt;T</th>\n",
       "      <th>C&gt;G</th>\n",
       "      <th>C&gt;A</th>\n",
       "      <th>A&gt;T</th>\n",
       "      <th>A&gt;G</th>\n",
       "      <th>A&gt;C</th>\n",
       "      <th>T&gt;G</th>\n",
       "      <th>T&gt;C</th>\n",
       "      <th>T&gt;A</th>\n",
       "      <th>G&gt;T</th>\n",
       "      <th>G&gt;C</th>\n",
       "    </tr>\n",
       "  </thead>\n",
       "  <tbody>\n",
       "    <tr>\n",
       "      <th>exp</th>\n",
       "      <td>12.844156</td>\n",
       "      <td>208.051948</td>\n",
       "      <td>88.000000</td>\n",
       "      <td>88.000000</td>\n",
       "      <td>88.129870</td>\n",
       "      <td>138.116883</td>\n",
       "      <td>88.129870</td>\n",
       "      <td>16.038961</td>\n",
       "      <td>54.948052</td>\n",
       "      <td>16.038961</td>\n",
       "      <td>6.935065</td>\n",
       "      <td>6.935065</td>\n",
       "    </tr>\n",
       "    <tr>\n",
       "      <th>exp_masked</th>\n",
       "      <td>11.805195</td>\n",
       "      <td>123.194805</td>\n",
       "      <td>55.038961</td>\n",
       "      <td>55.038961</td>\n",
       "      <td>40.103896</td>\n",
       "      <td>61.207792</td>\n",
       "      <td>40.103896</td>\n",
       "      <td>15.961039</td>\n",
       "      <td>54.766234</td>\n",
       "      <td>15.961039</td>\n",
       "      <td>6.909091</td>\n",
       "      <td>6.909091</td>\n",
       "    </tr>\n",
       "  </tbody>\n",
       "</table>\n",
       "</div>"
      ],
      "text/plain": [
       "                  G>A         C>T        C>G        C>A        A>T  \\\n",
       "exp         12.844156  208.051948  88.000000  88.000000  88.129870   \n",
       "exp_masked  11.805195  123.194805  55.038961  55.038961  40.103896   \n",
       "\n",
       "                   A>G        A>C        T>G        T>C        T>A       G>T  \\\n",
       "exp         138.116883  88.129870  16.038961  54.948052  16.038961  6.935065   \n",
       "exp_masked   61.207792  40.103896  15.961039  54.766234  15.961039  6.909091   \n",
       "\n",
       "                 G>C  \n",
       "exp         6.935065  \n",
       "exp_masked  6.909091  "
      ]
     },
     "execution_count": 94,
     "metadata": {},
     "output_type": "execute_result"
    }
   ],
   "source": [
    "pd.DataFrame([exp12, exp_masked12], index=[\"exp\", \"exp_masked\"])"
   ]
  },
  {
   "cell_type": "code",
   "execution_count": 119,
   "metadata": {},
   "outputs": [],
   "source": [
    "dct = dict()\n",
    "for sbs in possible_sbs12:\n",
    "    dct[sbs] = exp_masked12[sbs]\n",
    "for sbs in possible_sbs192:\n",
    "    dct[sbs] = exp_masked192.get(sbs, 0.)\n",
    "\n",
    "exp_muts = pd.Series(dct).reset_index(name=\"Count\").rename(columns={\"index\": \"Mut\"})\n",
    "exp_muts[\"Label\"] = \"syn\"\n",
    "\n",
    "exp_muts[[\"Label\", \"Mut\", \"Count\"]].to_csv(\"../data/exposure/human_cytb/exp_muts_invariant.tsv\", sep=\"\\t\", index=False)"
   ]
  },
  {
   "attachments": {},
   "cell_type": "markdown",
   "metadata": {},
   "source": [
    "### Human ND1"
   ]
  },
  {
   "cell_type": "code",
   "execution_count": 120,
   "metadata": {},
   "outputs": [],
   "source": [
    "exp12, exp192 = defaultdict(int), defaultdict(int)\n",
    "exp_masked12, exp_masked192 = defaultdict(int), defaultdict(int)\n",
    "for seq in human_nd1:\n",
    "    e12, e192  =  coda.collect_exp_mut_freqs(seq, None, [lbl])\n",
    "    em12, em192 = coda.collect_exp_mut_freqs(seq, human_nd1_mask, [lbl])\n",
    "\n",
    "    for sbs in e12[lbl]:\n",
    "        exp12[sbs] += e12[lbl][sbs] / len(human_nd1)\n",
    "        exp_masked12[sbs] += em12[lbl][sbs] / len(human_nd1)\n",
    "\n",
    "    for sbs in e192[lbl]:\n",
    "        exp192[sbs] += e192[lbl][sbs] / len(human_nd1)\n",
    "        exp_masked192[sbs] += em192[lbl][sbs] / len(human_nd1)\n"
   ]
  },
  {
   "cell_type": "code",
   "execution_count": 121,
   "metadata": {},
   "outputs": [
    {
     "data": {
      "text/html": [
       "<div>\n",
       "<style scoped>\n",
       "    .dataframe tbody tr th:only-of-type {\n",
       "        vertical-align: middle;\n",
       "    }\n",
       "\n",
       "    .dataframe tbody tr th {\n",
       "        vertical-align: top;\n",
       "    }\n",
       "\n",
       "    .dataframe thead th {\n",
       "        text-align: right;\n",
       "    }\n",
       "</style>\n",
       "<table border=\"1\" class=\"dataframe\">\n",
       "  <thead>\n",
       "    <tr style=\"text-align: right;\">\n",
       "      <th></th>\n",
       "      <th>A&gt;G</th>\n",
       "      <th>C&gt;A</th>\n",
       "      <th>C&gt;T</th>\n",
       "      <th>C&gt;G</th>\n",
       "      <th>G&gt;A</th>\n",
       "      <th>A&gt;T</th>\n",
       "      <th>A&gt;C</th>\n",
       "      <th>T&gt;C</th>\n",
       "      <th>T&gt;G</th>\n",
       "      <th>T&gt;A</th>\n",
       "      <th>G&gt;C</th>\n",
       "      <th>G&gt;T</th>\n",
       "    </tr>\n",
       "  </thead>\n",
       "  <tbody>\n",
       "    <tr>\n",
       "      <th>exp</th>\n",
       "      <td>116.849462</td>\n",
       "      <td>91.784946</td>\n",
       "      <td>178.784946</td>\n",
       "      <td>91.784946</td>\n",
       "      <td>17.193548</td>\n",
       "      <td>70.064516</td>\n",
       "      <td>70.064516</td>\n",
       "      <td>42.053763</td>\n",
       "      <td>16.096774</td>\n",
       "      <td>16.096774</td>\n",
       "      <td>9.0</td>\n",
       "      <td>9.0</td>\n",
       "    </tr>\n",
       "    <tr>\n",
       "      <th>exp_masked</th>\n",
       "      <td>116.849462</td>\n",
       "      <td>91.763441</td>\n",
       "      <td>178.741935</td>\n",
       "      <td>91.763441</td>\n",
       "      <td>17.193548</td>\n",
       "      <td>70.064516</td>\n",
       "      <td>70.064516</td>\n",
       "      <td>37.096774</td>\n",
       "      <td>15.118280</td>\n",
       "      <td>15.118280</td>\n",
       "      <td>9.0</td>\n",
       "      <td>9.0</td>\n",
       "    </tr>\n",
       "  </tbody>\n",
       "</table>\n",
       "</div>"
      ],
      "text/plain": [
       "                   A>G        C>A         C>T        C>G        G>A  \\\n",
       "exp         116.849462  91.784946  178.784946  91.784946  17.193548   \n",
       "exp_masked  116.849462  91.763441  178.741935  91.763441  17.193548   \n",
       "\n",
       "                  A>T        A>C        T>C        T>G        T>A  G>C  G>T  \n",
       "exp         70.064516  70.064516  42.053763  16.096774  16.096774  9.0  9.0  \n",
       "exp_masked  70.064516  70.064516  37.096774  15.118280  15.118280  9.0  9.0  "
      ]
     },
     "execution_count": 121,
     "metadata": {},
     "output_type": "execute_result"
    }
   ],
   "source": [
    "pd.DataFrame([exp12, exp_masked12], index=[\"exp\", \"exp_masked\"])"
   ]
  },
  {
   "cell_type": "code",
   "execution_count": 122,
   "metadata": {},
   "outputs": [],
   "source": [
    "dct = dict()\n",
    "for sbs in possible_sbs12:\n",
    "    dct[sbs] = exp_masked12[sbs]\n",
    "for sbs in possible_sbs192:\n",
    "    dct[sbs] = exp_masked192.get(sbs, 0.)\n",
    "\n",
    "exp_muts = pd.Series(dct).reset_index(name=\"Count\").rename(columns={\"index\": \"Mut\"})\n",
    "exp_muts[\"Label\"] = \"syn\"\n",
    "\n",
    "exp_muts[[\"Label\", \"Mut\", \"Count\"]].to_csv(\"../data/exposure/human_nd1/exp_muts_invariant.tsv\", sep=\"\\t\", index=False)"
   ]
  },
  {
   "attachments": {},
   "cell_type": "markdown",
   "metadata": {},
   "source": [
    "### Mus CYTB"
   ]
  },
  {
   "cell_type": "code",
   "execution_count": 21,
   "metadata": {},
   "outputs": [],
   "source": [
    "exp12, exp192 = defaultdict(int), defaultdict(int)\n",
    "exp_masked12, exp_masked192 = defaultdict(int), defaultdict(int)\n",
    "for seq in mus_cytb:\n",
    "    e12, e192  =  coda.collect_exp_mut_freqs(seq, None, [lbl])\n",
    "    em12, em192 = coda.collect_exp_mut_freqs(seq, mus_cytb_mask, [lbl])\n",
    "\n",
    "    for sbs in e12[lbl]:\n",
    "        exp12[sbs] += e12[lbl][sbs] / len(mus_cytb)\n",
    "        exp_masked12[sbs] += em12[lbl][sbs] / len(mus_cytb)\n",
    "\n",
    "    for sbs in e192[lbl]:\n",
    "        exp192[sbs] += e192[lbl][sbs] / len(mus_cytb)\n",
    "        exp_masked192[sbs] += em192[lbl][sbs] / len(mus_cytb)\n",
    "\n",
    "dct = dict()\n",
    "for sbs in possible_sbs12:\n",
    "    dct[sbs] = exp_masked12[sbs]\n",
    "for sbs in possible_sbs192:\n",
    "    dct[sbs] = exp_masked192.get(sbs, 0.)\n",
    "\n",
    "exp_muts = pd.Series(dct).reset_index(name=\"Count\").rename(columns={\"index\": \"Mut\"})\n",
    "exp_muts[\"Label\"] = \"syn\"\n",
    "\n",
    "exp_muts[[\"Label\", \"Mut\", \"Count\"]].to_csv(\"../data/exposure/mus_cytb/exp_muts_invariant.tsv\", sep=\"\\t\", index=False)"
   ]
  },
  {
   "cell_type": "code",
   "execution_count": 35,
   "metadata": {},
   "outputs": [
    {
     "data": {
      "text/html": [
       "<div>\n",
       "<style scoped>\n",
       "    .dataframe tbody tr th:only-of-type {\n",
       "        vertical-align: middle;\n",
       "    }\n",
       "\n",
       "    .dataframe tbody tr th {\n",
       "        vertical-align: top;\n",
       "    }\n",
       "\n",
       "    .dataframe thead th {\n",
       "        text-align: right;\n",
       "    }\n",
       "</style>\n",
       "<table border=\"1\" class=\"dataframe\">\n",
       "  <thead>\n",
       "    <tr style=\"text-align: right;\">\n",
       "      <th></th>\n",
       "      <th>G&gt;A</th>\n",
       "      <th>A&gt;C</th>\n",
       "      <th>A&gt;T</th>\n",
       "      <th>A&gt;G</th>\n",
       "      <th>C&gt;T</th>\n",
       "      <th>T&gt;A</th>\n",
       "      <th>T&gt;C</th>\n",
       "      <th>T&gt;G</th>\n",
       "      <th>C&gt;G</th>\n",
       "      <th>C&gt;A</th>\n",
       "      <th>G&gt;C</th>\n",
       "      <th>G&gt;T</th>\n",
       "    </tr>\n",
       "  </thead>\n",
       "  <tbody>\n",
       "    <tr>\n",
       "      <th>exp</th>\n",
       "      <td>10.602564</td>\n",
       "      <td>105.935897</td>\n",
       "      <td>105.935897</td>\n",
       "      <td>168.602564</td>\n",
       "      <td>151.743590</td>\n",
       "      <td>21.769231</td>\n",
       "      <td>89.128205</td>\n",
       "      <td>21.769231</td>\n",
       "      <td>45.000000</td>\n",
       "      <td>45.000000</td>\n",
       "      <td>5.871795</td>\n",
       "      <td>5.871795</td>\n",
       "    </tr>\n",
       "    <tr>\n",
       "      <th>exp_masked</th>\n",
       "      <td>9.410256</td>\n",
       "      <td>74.423077</td>\n",
       "      <td>74.423077</td>\n",
       "      <td>105.987179</td>\n",
       "      <td>142.192308</td>\n",
       "      <td>21.641026</td>\n",
       "      <td>83.038462</td>\n",
       "      <td>21.641026</td>\n",
       "      <td>44.820513</td>\n",
       "      <td>44.820513</td>\n",
       "      <td>5.820513</td>\n",
       "      <td>5.820513</td>\n",
       "    </tr>\n",
       "  </tbody>\n",
       "</table>\n",
       "</div>"
      ],
      "text/plain": [
       "                  G>A         A>C         A>T         A>G         C>T  \\\n",
       "exp         10.602564  105.935897  105.935897  168.602564  151.743590   \n",
       "exp_masked   9.410256   74.423077   74.423077  105.987179  142.192308   \n",
       "\n",
       "                  T>A        T>C        T>G        C>G        C>A       G>C  \\\n",
       "exp         21.769231  89.128205  21.769231  45.000000  45.000000  5.871795   \n",
       "exp_masked  21.641026  83.038462  21.641026  44.820513  44.820513  5.820513   \n",
       "\n",
       "                 G>T  \n",
       "exp         5.871795  \n",
       "exp_masked  5.820513  "
      ]
     },
     "execution_count": 35,
     "metadata": {},
     "output_type": "execute_result"
    }
   ],
   "source": [
    "pd.DataFrame([exp12, exp_masked12], index=[\"exp\", \"exp_masked\"])"
   ]
  },
  {
   "attachments": {},
   "cell_type": "markdown",
   "metadata": {},
   "source": [
    "### Mus ND1"
   ]
  },
  {
   "cell_type": "code",
   "execution_count": null,
   "metadata": {},
   "outputs": [],
   "source": [
    "# import re\n",
    "\n",
    "# from Bio import SeqIO\n",
    "# import pandas as pd\n",
    "\n",
    "# rates = pd.read_csv(\"data/MUS/mus_rates/ND1.rate\", sep='\\t', comment=\"#\")\n",
    "\n",
    "# non_letters_positions = set()  # 1-BASED\n",
    "# for rec in SeqIO.parse(\"data/exposure/mus_nd1/raw_aln.fna\", format=\"fasta\"):\n",
    "#     seq = str(rec.seq)\n",
    "#     for i in range(0, len(seq), 3):\n",
    "#         codon = seq[i: i+3]\n",
    "#         if not re.match(\"[A-Za-z]{3}\", codon):\n",
    "#             non_letters_positions.add(i+1)\n",
    "#             non_letters_positions.add(i+2)\n",
    "#             non_letters_positions.add(i+3)\n",
    "\n",
    "# print(sorted(non_letters_positions))\n",
    "\n",
    "# df = rates[~rates.Site.isin(non_letters_positions)]\n",
    "# df.to_csv(\"data/exposure/mus_nd1/ND1.rate\", index=False, sep=\"\\t\")"
   ]
  },
  {
   "cell_type": "code",
   "execution_count": 8,
   "metadata": {},
   "outputs": [],
   "source": [
    "exp12, exp192 = defaultdict(int), defaultdict(int)\n",
    "exp_masked12, exp_masked192 = defaultdict(int), defaultdict(int)\n",
    "for seq in mus_nd1:\n",
    "    e12, e192  =  coda.collect_exp_mut_freqs(seq, None, [lbl])\n",
    "    em12, em192 = coda.collect_exp_mut_freqs(seq, mus_nd1_mask, [lbl])\n",
    "\n",
    "    for sbs in e12[lbl]:\n",
    "        exp12[sbs] += e12[lbl][sbs] / len(mus_nd1)\n",
    "        exp_masked12[sbs] += em12[lbl][sbs] / len(mus_nd1)\n",
    "\n",
    "    for sbs in e192[lbl]:\n",
    "        exp192[sbs] += e192[lbl][sbs] / len(mus_nd1)\n",
    "        exp_masked192[sbs] += em192[lbl][sbs] / len(mus_nd1)\n",
    "\n",
    "dct = dict()\n",
    "for sbs in possible_sbs12:\n",
    "    dct[sbs] = exp_masked12[sbs]\n",
    "for sbs in possible_sbs192:\n",
    "    dct[sbs] = exp_masked192.get(sbs, 0.)\n",
    "\n",
    "exp_muts = pd.Series(dct).reset_index(name=\"Count\").rename(columns={\"index\": \"Mut\"})\n",
    "exp_muts[\"Label\"] = \"syn\"\n",
    "\n",
    "exp_muts[[\"Label\", \"Mut\", \"Count\"]].to_csv(\"../data/exposure/mus_nd1/exp_muts_invariant.tsv\", sep=\"\\t\", index=False)"
   ]
  },
  {
   "cell_type": "code",
   "execution_count": 9,
   "metadata": {},
   "outputs": [
    {
     "data": {
      "text/html": [
       "<div>\n",
       "<style scoped>\n",
       "    .dataframe tbody tr th:only-of-type {\n",
       "        vertical-align: middle;\n",
       "    }\n",
       "\n",
       "    .dataframe tbody tr th {\n",
       "        vertical-align: top;\n",
       "    }\n",
       "\n",
       "    .dataframe thead th {\n",
       "        text-align: right;\n",
       "    }\n",
       "</style>\n",
       "<table border=\"1\" class=\"dataframe\">\n",
       "  <thead>\n",
       "    <tr style=\"text-align: right;\">\n",
       "      <th></th>\n",
       "      <th>T&gt;A</th>\n",
       "      <th>T&gt;G</th>\n",
       "      <th>T&gt;C</th>\n",
       "      <th>G&gt;A</th>\n",
       "      <th>C&gt;A</th>\n",
       "      <th>C&gt;G</th>\n",
       "      <th>C&gt;T</th>\n",
       "      <th>A&gt;T</th>\n",
       "      <th>A&gt;C</th>\n",
       "      <th>A&gt;G</th>\n",
       "      <th>G&gt;T</th>\n",
       "      <th>G&gt;C</th>\n",
       "    </tr>\n",
       "  </thead>\n",
       "  <tbody>\n",
       "    <tr>\n",
       "      <th>exp</th>\n",
       "      <td>20.375</td>\n",
       "      <td>20.375</td>\n",
       "      <td>74.875000</td>\n",
       "      <td>9.767857</td>\n",
       "      <td>34.982143</td>\n",
       "      <td>34.982143</td>\n",
       "      <td>101.339286</td>\n",
       "      <td>87.142857</td>\n",
       "      <td>87.142857</td>\n",
       "      <td>153.875000</td>\n",
       "      <td>6.428571</td>\n",
       "      <td>6.428571</td>\n",
       "    </tr>\n",
       "    <tr>\n",
       "      <th>exp_masked</th>\n",
       "      <td>19.125</td>\n",
       "      <td>19.125</td>\n",
       "      <td>71.214286</td>\n",
       "      <td>9.642857</td>\n",
       "      <td>33.000000</td>\n",
       "      <td>33.000000</td>\n",
       "      <td>83.392857</td>\n",
       "      <td>57.946429</td>\n",
       "      <td>57.946429</td>\n",
       "      <td>91.267857</td>\n",
       "      <td>6.375000</td>\n",
       "      <td>6.375000</td>\n",
       "    </tr>\n",
       "  </tbody>\n",
       "</table>\n",
       "</div>"
      ],
      "text/plain": [
       "               T>A     T>G        T>C       G>A        C>A        C>G  \\\n",
       "exp         20.375  20.375  74.875000  9.767857  34.982143  34.982143   \n",
       "exp_masked  19.125  19.125  71.214286  9.642857  33.000000  33.000000   \n",
       "\n",
       "                   C>T        A>T        A>C         A>G       G>T       G>C  \n",
       "exp         101.339286  87.142857  87.142857  153.875000  6.428571  6.428571  \n",
       "exp_masked   83.392857  57.946429  57.946429   91.267857  6.375000  6.375000  "
      ]
     },
     "execution_count": 9,
     "metadata": {},
     "output_type": "execute_result"
    }
   ],
   "source": [
    "pd.DataFrame([exp12, exp_masked12], index=[\"exp\", \"exp_masked\"])"
   ]
  },
  {
   "cell_type": "code",
   "execution_count": null,
   "metadata": {},
   "outputs": [],
   "source": []
  },
  {
   "cell_type": "code",
   "execution_count": null,
   "metadata": {},
   "outputs": [],
   "source": []
  },
  {
   "cell_type": "code",
   "execution_count": null,
   "metadata": {},
   "outputs": [],
   "source": []
  },
  {
   "cell_type": "code",
   "execution_count": null,
   "metadata": {},
   "outputs": [],
   "source": []
  }
 ],
 "metadata": {
  "kernelspec": {
   "display_name": "env_bio",
   "language": "python",
   "name": "python3"
  },
  "language_info": {
   "codemirror_mode": {
    "name": "ipython",
    "version": 3
   },
   "file_extension": ".py",
   "mimetype": "text/x-python",
   "name": "python",
   "nbconvert_exporter": "python",
   "pygments_lexer": "ipython3",
   "version": "3.9.13"
  },
  "orig_nbformat": 4,
  "vscode": {
   "interpreter": {
    "hash": "1f8ac943a1f0a360cafdaeb78858a37fec7c1ca02fbfb34f84d0516267577085"
   }
  }
 },
 "nbformat": 4,
 "nbformat_minor": 2
}
