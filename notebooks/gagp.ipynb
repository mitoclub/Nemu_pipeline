{
 "cells": [
  {
   "cell_type": "code",
   "execution_count": 1,
   "metadata": {},
   "outputs": [],
   "source": [
    "import os\n",
    "import re\n",
    "import sys\n",
    "from collections import defaultdict\n",
    "from functools import reduce, partial\n",
    "import warnings\n",
    "warnings.filterwarnings(\"ignore\")\n",
    "\n",
    "import numpy as np\n",
    "import pandas as pd\n",
    "import matplotlib\n",
    "import matplotlib.pyplot as plt\n",
    "import matplotlib.ticker as ticker\n",
    "import seaborn as sns\n",
    "from scipy import spatial\n",
    "import ete3\n",
    "from ete3 import PhyloTree\n",
    "from Bio import SeqIO\n",
    "from Bio import pairwise2, SeqRecord, Seq\n",
    "from Bio.Data import CodonTable\n",
    "\n",
    "import pymutspec\n",
    "from pymutspec.annotation import mutations_summary, calculate_mutspec, lbl_id2lbl, lbl2lbl_id, CodonAnnotation\n",
    "from pymutspec.constants import possible_sbs192, possible_sbs12\n",
    "from pymutspec.io import GenesStates"
   ]
  },
  {
   "attachments": {},
   "cell_type": "markdown",
   "metadata": {},
   "source": [
    "## Data"
   ]
  },
  {
   "cell_type": "code",
   "execution_count": 2,
   "metadata": {},
   "outputs": [],
   "source": [
    "ref = pymutspec.io.read_genbank_ref(\"../data/NC_012920.1.gb\")"
   ]
  },
  {
   "cell_type": "code",
   "execution_count": 3,
   "metadata": {},
   "outputs": [],
   "source": [
    "def get_gene(gname: str):\n",
    "    \"\"\"\n",
    "    ['ND1', 'ND2', 'COX1', 'COX2', 'ATP8', 'ATP6', 'COX3', 'ND3',\n",
    "       'ND4L', 'ND4', 'ND5', 'ND6', 'CYTB']\n",
    "    \"\"\"\n",
    "    seq = \"\".join(ref[ref.GeneName == gname].Nuc.values)\n",
    "    return seq "
   ]
  },
  {
   "cell_type": "code",
   "execution_count": 30,
   "metadata": {},
   "outputs": [
    {
     "name": "stdout",
     "output_type": "stream",
     "text": [
      "ND1\n",
      "MPMANLLLLIVPILIAMAFLMLTERKILGYMQLRKGPNVVGPYGLLQPFADAMKLFTKEPLKPATSTITLYITAPTLALTIALLLWTPLPMPNPLVNLNLGLLFILATSSLAVYSILWSGWASNSNYALIGALRAVAQTISYEVTLAIILLSTLLMSGSFNLSTLITTQEHLWLLLPSWPLAMMWFISTLAETNRTPFDLAEGESELVSGFNIEYAAGPFALFFMAEYTNIIMMNTLTTTIFLGTTYDALSPELYTTYFVTKTLLLTSLFLWIRTAYPRFRYDQLMHLLWKNFLPLTLALLMWYVSMPITISSIPPQT\n",
      "\n",
      "CYTB\n",
      "MTPMRKTNPLMKLINHSFIDLPTPSNISAWWNFGSLLGACLILQITTGLFLAMHYSPDASTAFSSIAHITRDVNYGWIIRYLHANGASMFFICLFLHIGRGLYYGSFLYSETWNIGIILLLATMATAFMGYVLPWGQMSFWGATVITNLLSAIPYIGTDLVQWIWGGYSVDSPTLTRFFTFHFILPFIIAALATLHLLFLHETGSNNPLGITSHSDKITFHPYYTIKDALGLLLFLLSLMTLTLFSPDLLGDPDNYTLANPLNTPPHIKPEWYFLFAYTILRSVPNKLGGVLALLLSILILAMIPILHMSKQQSMMFRPLSQSLYWLLAADLLILTWIGGQPVSYPFTIIGQVASVLYFTTILILMPTISLIENKMLKWA\n",
      "\n"
     ]
    }
   ],
   "source": [
    "ct = CodonTable.unambiguous_dna_by_id[2]\n",
    "\n",
    "for g in ['ND1', 'CYTB']:\n",
    "    s = Seq.Seq(get_gene(g))\n",
    "    print(g)\n",
    "    print(str(s.translate(2)))\n",
    "    print()"
   ]
  },
  {
   "attachments": {},
   "cell_type": "markdown",
   "metadata": {},
   "source": [
    "### Extract genes from alignment of genomes"
   ]
  },
  {
   "cell_type": "code",
   "execution_count": 79,
   "metadata": {},
   "outputs": [],
   "source": [
    "genomes = []\n",
    "genes = {}\n",
    "for rec in SeqIO.parse(\"../data/GAGP/Mitochondria_GreatApes.muscle2.fasta2line\", format=\"fasta\"):\n",
    "    if rec.id in ['ND1', 'ND2', 'COX1', 'COX2', 'ATP8', 'ATP6', 'COX3', 'ND3', 'ND4L', 'ND4', 'ND5', 'ND6', 'CYTB']:\n",
    "        genes[rec.id] = str(rec.seq)\n",
    "    else:\n",
    "        genomes.append(rec)"
   ]
  },
  {
   "cell_type": "code",
   "execution_count": 82,
   "metadata": {},
   "outputs": [],
   "source": [
    "genes_pos = {}\n",
    "for g, seq in genes.items():\n",
    "    m = re.match(\"(-+)(\\w+)(-+)\", seq)\n",
    "    n = len(seq)\n",
    "    if sum([len(x) for x in m.groups()]) == n:\n",
    "        gaps_up, _, gaps_down = m.groups()\n",
    "        p1 = len(gaps_up)\n",
    "        p2 = n - len(gaps_down)\n",
    "        genes_pos[g] = tuple((p1, p2))\n",
    "    else:\n",
    "        print(\"errror\")\n",
    "        break"
   ]
  },
  {
   "cell_type": "code",
   "execution_count": 107,
   "metadata": {},
   "outputs": [
    {
     "data": {
      "text/plain": [
       "{'ND6': (13620, 14145),\n",
       " 'COX3': (8677, 9461),\n",
       " 'ND3': (9529, 9875),\n",
       " 'ND4L': (9940, 10230),\n",
       " 'ATP6': (7997, 8677),\n",
       " 'ND5': (11808, 13620),\n",
       " 'ATP8': (7836, 7997),\n",
       " 'COX2': (7038, 7722),\n",
       " 'COX1': (5355, 6897),\n",
       " 'ND1': (2741, 3697),\n",
       " 'ND2': (3904, 4946),\n",
       " 'ND4': (10230, 11608),\n",
       " 'CYTB': (14218, 15359)}"
      ]
     },
     "execution_count": 107,
     "metadata": {},
     "output_type": "execute_result"
    }
   ],
   "source": [
    "genes_pos"
   ]
  },
  {
   "cell_type": "code",
   "execution_count": 109,
   "metadata": {},
   "outputs": [],
   "source": [
    "new_records = []\n",
    "for gene, (p1, p2) in genes_pos.items():\n",
    "    grec = []\n",
    "    for genome in genomes:\n",
    "        seq = genome.seq[p1: p2]\n",
    "        idx = genome.id + \"_\" + gene\n",
    "        r = SeqRecord.SeqRecord(seq, idx, idx, idx)\n",
    "        new_records.append(r)\n",
    "        grec.append(r)\n",
    "\n",
    "    with open(f\"../data/GAGP/genes/{gene}.fna\", \"w\") as handle:\n",
    "        SeqIO.write(grec, handle, \"fasta-2line\")\n",
    "\n",
    "# with open(\"../data/GAGP/genes.fna\", \"w\") as handle:\n",
    "#     SeqIO.write(new_records, handle, \"fasta-2line\")"
   ]
  },
  {
   "attachments": {},
   "cell_type": "markdown",
   "metadata": {},
   "source": [
    "## Calculate exp ms"
   ]
  },
  {
   "cell_type": "code",
   "execution_count": 2,
   "metadata": {},
   "outputs": [],
   "source": [
    "coda = CodonAnnotation(2)"
   ]
  },
  {
   "cell_type": "code",
   "execution_count": 3,
   "metadata": {},
   "outputs": [],
   "source": [
    "human_cytb = [str(x.seq) for x in SeqIO.parse(\"../data/exposure/human_cytb/alignment_checked.fasta\", format=\"fasta\")]\n",
    "human_nd1 = [str(x.seq) for x in SeqIO.parse(\"../data/exposure/human_nd1/alignment_checked.fasta\", format=\"fasta\")]\n",
    "human_cytb_mask = GenesStates.get_mask(GenesStates.read_rates(\"../data/exposure/human_cytb/CYTB.rate\"))[1]\n",
    "human_nd1_mask = GenesStates.get_mask(GenesStates.read_rates(\"../data/exposure/human_nd1/ND1.rate\"))[1]\n",
    "\n",
    "mus_cytb = [str(x.seq) for x in SeqIO.parse(\"../data/exposure/mus_cytb/alignment_checked.fasta\", format=\"fasta\")]\n",
    "mus_nd1 = [str(x.seq) for x in SeqIO.parse(\"../data/exposure/mus_nd1/alignment_checked.fasta\", format=\"fasta\")]"
   ]
  },
  {
   "cell_type": "code",
   "execution_count": 8,
   "metadata": {},
   "outputs": [
    {
     "data": {
      "text/plain": [
       "(340, (1137,))"
      ]
     },
     "execution_count": 8,
     "metadata": {},
     "output_type": "execute_result"
    }
   ],
   "source": [
    "human_cytb_mask.sum(), human_cytb_mask.shape"
   ]
  },
  {
   "cell_type": "code",
   "execution_count": 61,
   "metadata": {},
   "outputs": [
    {
     "data": {
      "text/plain": [
       "(705, (954,))"
      ]
     },
     "execution_count": 61,
     "metadata": {},
     "output_type": "execute_result"
    }
   ],
   "source": [
    "human_nd1_mask.sum(), human_nd1_mask.shape"
   ]
  },
  {
   "cell_type": "code",
   "execution_count": 33,
   "metadata": {},
   "outputs": [],
   "source": [
    "lbl = \"syn\""
   ]
  },
  {
   "cell_type": "code",
   "execution_count": 57,
   "metadata": {},
   "outputs": [],
   "source": [
    "exp12, exp192 = defaultdict(int), defaultdict(int)\n",
    "exp_masked12, exp_masked192 = defaultdict(int), defaultdict(int)\n",
    "for seq in human_cytb:\n",
    "    e12, e192  =  coda.collect_exp_mut_freqs(seq, None, [lbl])\n",
    "    em12, em192 = coda.collect_exp_mut_freqs(seq, human_cytb_mask, [lbl])\n",
    "\n",
    "    for sbs in e12[lbl]:\n",
    "        exp12[sbs] += e12[lbl][sbs] / len(human_cytb)\n",
    "        exp_masked12[sbs] += em12[lbl][sbs] / len(human_cytb)\n",
    "\n",
    "    for sbs in e192[lbl]:\n",
    "        exp192[sbs] += e192[lbl][sbs] / len(human_cytb)\n",
    "        exp_masked192[sbs] += em192[lbl][sbs] / len(human_cytb)\n"
   ]
  },
  {
   "cell_type": "code",
   "execution_count": 58,
   "metadata": {},
   "outputs": [
    {
     "data": {
      "text/html": [
       "<div>\n",
       "<style scoped>\n",
       "    .dataframe tbody tr th:only-of-type {\n",
       "        vertical-align: middle;\n",
       "    }\n",
       "\n",
       "    .dataframe tbody tr th {\n",
       "        vertical-align: top;\n",
       "    }\n",
       "\n",
       "    .dataframe thead th {\n",
       "        text-align: right;\n",
       "    }\n",
       "</style>\n",
       "<table border=\"1\" class=\"dataframe\">\n",
       "  <thead>\n",
       "    <tr style=\"text-align: right;\">\n",
       "      <th></th>\n",
       "      <th>G&gt;A</th>\n",
       "      <th>C&gt;T</th>\n",
       "      <th>C&gt;A</th>\n",
       "      <th>C&gt;G</th>\n",
       "      <th>A&gt;T</th>\n",
       "      <th>A&gt;C</th>\n",
       "      <th>A&gt;G</th>\n",
       "      <th>T&gt;A</th>\n",
       "      <th>T&gt;G</th>\n",
       "      <th>T&gt;C</th>\n",
       "      <th>G&gt;C</th>\n",
       "      <th>G&gt;T</th>\n",
       "    </tr>\n",
       "  </thead>\n",
       "  <tbody>\n",
       "    <tr>\n",
       "      <th>exp</th>\n",
       "      <td>12.844156</td>\n",
       "      <td>208.051948</td>\n",
       "      <td>88.000000</td>\n",
       "      <td>88.000000</td>\n",
       "      <td>88.129870</td>\n",
       "      <td>88.129870</td>\n",
       "      <td>138.116883</td>\n",
       "      <td>16.038961</td>\n",
       "      <td>16.038961</td>\n",
       "      <td>54.948052</td>\n",
       "      <td>6.935065</td>\n",
       "      <td>6.935065</td>\n",
       "    </tr>\n",
       "    <tr>\n",
       "      <th>exp_masked</th>\n",
       "      <td>11.805195</td>\n",
       "      <td>123.194805</td>\n",
       "      <td>55.038961</td>\n",
       "      <td>55.038961</td>\n",
       "      <td>40.103896</td>\n",
       "      <td>40.103896</td>\n",
       "      <td>61.207792</td>\n",
       "      <td>15.961039</td>\n",
       "      <td>15.961039</td>\n",
       "      <td>54.766234</td>\n",
       "      <td>6.909091</td>\n",
       "      <td>6.909091</td>\n",
       "    </tr>\n",
       "  </tbody>\n",
       "</table>\n",
       "</div>"
      ],
      "text/plain": [
       "                  G>A         C>T        C>A        C>G        A>T        A>C  \\\n",
       "exp         12.844156  208.051948  88.000000  88.000000  88.129870  88.129870   \n",
       "exp_masked  11.805195  123.194805  55.038961  55.038961  40.103896  40.103896   \n",
       "\n",
       "                   A>G        T>A        T>G        T>C       G>C       G>T  \n",
       "exp         138.116883  16.038961  16.038961  54.948052  6.935065  6.935065  \n",
       "exp_masked   61.207792  15.961039  15.961039  54.766234  6.909091  6.909091  "
      ]
     },
     "execution_count": 58,
     "metadata": {},
     "output_type": "execute_result"
    }
   ],
   "source": [
    "pd.DataFrame([exp12, exp_masked12], index=[\"exp\", \"exp_masked\"])"
   ]
  },
  {
   "cell_type": "code",
   "execution_count": 59,
   "metadata": {},
   "outputs": [],
   "source": [
    "exp12, exp192 = defaultdict(int), defaultdict(int)\n",
    "exp_masked12, exp_masked192 = defaultdict(int), defaultdict(int)\n",
    "for seq in human_nd1:\n",
    "    e12, e192  =  coda.collect_exp_mut_freqs(seq, None, [lbl])\n",
    "    em12, em192 = coda.collect_exp_mut_freqs(seq, human_nd1_mask, [lbl])\n",
    "\n",
    "    for sbs in e12[lbl]:\n",
    "        exp12[sbs] += e12[lbl][sbs] / len(human_nd1)\n",
    "        exp_masked12[sbs] += em12[lbl][sbs] / len(human_nd1)\n",
    "\n",
    "    for sbs in e192[lbl]:\n",
    "        exp192[sbs] += e192[lbl][sbs] / len(human_nd1)\n",
    "        exp_masked192[sbs] += em192[lbl][sbs] / len(human_nd1)\n"
   ]
  },
  {
   "cell_type": "code",
   "execution_count": 60,
   "metadata": {},
   "outputs": [
    {
     "data": {
      "text/html": [
       "<div>\n",
       "<style scoped>\n",
       "    .dataframe tbody tr th:only-of-type {\n",
       "        vertical-align: middle;\n",
       "    }\n",
       "\n",
       "    .dataframe tbody tr th {\n",
       "        vertical-align: top;\n",
       "    }\n",
       "\n",
       "    .dataframe thead th {\n",
       "        text-align: right;\n",
       "    }\n",
       "</style>\n",
       "<table border=\"1\" class=\"dataframe\">\n",
       "  <thead>\n",
       "    <tr style=\"text-align: right;\">\n",
       "      <th></th>\n",
       "      <th>A&gt;G</th>\n",
       "      <th>C&gt;T</th>\n",
       "      <th>C&gt;A</th>\n",
       "      <th>C&gt;G</th>\n",
       "      <th>G&gt;A</th>\n",
       "      <th>A&gt;C</th>\n",
       "      <th>A&gt;T</th>\n",
       "      <th>T&gt;C</th>\n",
       "      <th>T&gt;A</th>\n",
       "      <th>T&gt;G</th>\n",
       "      <th>G&gt;C</th>\n",
       "      <th>G&gt;T</th>\n",
       "    </tr>\n",
       "  </thead>\n",
       "  <tbody>\n",
       "    <tr>\n",
       "      <th>exp</th>\n",
       "      <td>116.849462</td>\n",
       "      <td>178.784946</td>\n",
       "      <td>91.784946</td>\n",
       "      <td>91.784946</td>\n",
       "      <td>17.193548</td>\n",
       "      <td>70.064516</td>\n",
       "      <td>70.064516</td>\n",
       "      <td>42.053763</td>\n",
       "      <td>16.096774</td>\n",
       "      <td>16.096774</td>\n",
       "      <td>9.0</td>\n",
       "      <td>9.0</td>\n",
       "    </tr>\n",
       "    <tr>\n",
       "      <th>exp_masked</th>\n",
       "      <td>116.849462</td>\n",
       "      <td>178.741935</td>\n",
       "      <td>91.763441</td>\n",
       "      <td>91.763441</td>\n",
       "      <td>17.193548</td>\n",
       "      <td>70.064516</td>\n",
       "      <td>70.064516</td>\n",
       "      <td>37.096774</td>\n",
       "      <td>15.118280</td>\n",
       "      <td>15.118280</td>\n",
       "      <td>9.0</td>\n",
       "      <td>9.0</td>\n",
       "    </tr>\n",
       "  </tbody>\n",
       "</table>\n",
       "</div>"
      ],
      "text/plain": [
       "                   A>G         C>T        C>A        C>G        G>A  \\\n",
       "exp         116.849462  178.784946  91.784946  91.784946  17.193548   \n",
       "exp_masked  116.849462  178.741935  91.763441  91.763441  17.193548   \n",
       "\n",
       "                  A>C        A>T        T>C        T>A        T>G  G>C  G>T  \n",
       "exp         70.064516  70.064516  42.053763  16.096774  16.096774  9.0  9.0  \n",
       "exp_masked  70.064516  70.064516  37.096774  15.118280  15.118280  9.0  9.0  "
      ]
     },
     "execution_count": 60,
     "metadata": {},
     "output_type": "execute_result"
    }
   ],
   "source": [
    "pd.DataFrame([exp12, exp_masked12], index=[\"exp\", \"exp_masked\"])"
   ]
  },
  {
   "cell_type": "code",
   "execution_count": null,
   "metadata": {},
   "outputs": [],
   "source": []
  }
 ],
 "metadata": {
  "kernelspec": {
   "display_name": "env_bio",
   "language": "python",
   "name": "python3"
  },
  "language_info": {
   "codemirror_mode": {
    "name": "ipython",
    "version": 3
   },
   "file_extension": ".py",
   "mimetype": "text/x-python",
   "name": "python",
   "nbconvert_exporter": "python",
   "pygments_lexer": "ipython3",
   "version": "3.9.5"
  },
  "orig_nbformat": 4,
  "vscode": {
   "interpreter": {
    "hash": "c737589ac25c2b5207a58295544dae93bde342e9f173b68ed1d9625ade55517f"
   }
  }
 },
 "nbformat": 4,
 "nbformat_minor": 2
}
