{
 "cells": [
  {
   "cell_type": "code",
   "execution_count": 90,
   "metadata": {},
   "outputs": [],
   "source": [
    "import os\n",
    "import re\n",
    "import sys\n",
    "from collections import defaultdict\n",
    "from functools import reduce, partial\n",
    "import warnings\n",
    "warnings.filterwarnings(\"ignore\")\n",
    "\n",
    "import numpy as np\n",
    "import pandas as pd\n",
    "import matplotlib\n",
    "import matplotlib.pyplot as plt\n",
    "import matplotlib.ticker as ticker\n",
    "import seaborn as sns\n",
    "from scipy import spatial\n",
    "import ete3\n",
    "from ete3 import PhyloTree\n",
    "from Bio import SeqIO\n",
    "from Bio import pairwise2, SeqRecord\n",
    "\n",
    "import pymutspec\n",
    "from pymutspec.annotation import mutations_summary, calculate_mutspec, lbl_id2lbl, lbl2lbl_id\n",
    "from pymutspec.constants import possible_sbs192, possible_sbs12"
   ]
  },
  {
   "cell_type": "code",
   "execution_count": 7,
   "metadata": {},
   "outputs": [],
   "source": [
    "ref = pymutspec.io.read_genbank_ref(\"../data/NC_012920.1.gb\")"
   ]
  },
  {
   "cell_type": "code",
   "execution_count": 11,
   "metadata": {},
   "outputs": [],
   "source": [
    "def get_gene(gname: str):\n",
    "    \"\"\"\n",
    "    ['ND1', 'ND2', 'COX1', 'COX2', 'ATP8', 'ATP6', 'COX3', 'ND3',\n",
    "       'ND4L', 'ND4', 'ND5', 'ND6', 'CYTB']\n",
    "    \"\"\"\n",
    "    seq = \"\".join(ref[ref.GeneName == gname].Nuc.values)\n",
    "    return seq "
   ]
  },
  {
   "cell_type": "code",
   "execution_count": 79,
   "metadata": {},
   "outputs": [],
   "source": [
    "genomes = []\n",
    "genes = {}\n",
    "for rec in SeqIO.parse(\"../data/GAGP/Mitochondria_GreatApes.muscle2.fasta2line\", format=\"fasta\"):\n",
    "    if rec.id in ['ND1', 'ND2', 'COX1', 'COX2', 'ATP8', 'ATP6', 'COX3', 'ND3', 'ND4L', 'ND4', 'ND5', 'ND6', 'CYTB']:\n",
    "        genes[rec.id] = str(rec.seq)\n",
    "    else:\n",
    "        genomes.append(rec)"
   ]
  },
  {
   "cell_type": "code",
   "execution_count": 82,
   "metadata": {},
   "outputs": [],
   "source": [
    "genes_pos = {}\n",
    "for g, seq in genes.items():\n",
    "    m = re.match(\"(-+)(\\w+)(-+)\", seq)\n",
    "    n = len(seq)\n",
    "    if sum([len(x) for x in m.groups()]) == n:\n",
    "        gaps_up, _, gaps_down = m.groups()\n",
    "        p1 = len(gaps_up)\n",
    "        p2 = n - len(gaps_down)\n",
    "        genes_pos[g] = tuple((p1, p2))\n",
    "    else:\n",
    "        print(\"errror\")\n",
    "        break"
   ]
  },
  {
   "cell_type": "code",
   "execution_count": 107,
   "metadata": {},
   "outputs": [
    {
     "data": {
      "text/plain": [
       "{'ND6': (13620, 14145),\n",
       " 'COX3': (8677, 9461),\n",
       " 'ND3': (9529, 9875),\n",
       " 'ND4L': (9940, 10230),\n",
       " 'ATP6': (7997, 8677),\n",
       " 'ND5': (11808, 13620),\n",
       " 'ATP8': (7836, 7997),\n",
       " 'COX2': (7038, 7722),\n",
       " 'COX1': (5355, 6897),\n",
       " 'ND1': (2741, 3697),\n",
       " 'ND2': (3904, 4946),\n",
       " 'ND4': (10230, 11608),\n",
       " 'CYTB': (14218, 15359)}"
      ]
     },
     "execution_count": 107,
     "metadata": {},
     "output_type": "execute_result"
    }
   ],
   "source": [
    "genes_pos"
   ]
  },
  {
   "cell_type": "code",
   "execution_count": 109,
   "metadata": {},
   "outputs": [],
   "source": [
    "new_records = []\n",
    "for gene, (p1, p2) in genes_pos.items():\n",
    "    grec = []\n",
    "    for genome in genomes:\n",
    "        seq = genome.seq[p1: p2]\n",
    "        idx = genome.id + \"_\" + gene\n",
    "        r = SeqRecord.SeqRecord(seq, idx, idx, idx)\n",
    "        new_records.append(r)\n",
    "        grec.append(r)\n",
    "\n",
    "    with open(f\"../data/GAGP/genes/{gene}.fna\", \"w\") as handle:\n",
    "        SeqIO.write(grec, handle, \"fasta-2line\")\n",
    "\n",
    "# with open(\"../data/GAGP/genes.fna\", \"w\") as handle:\n",
    "#     SeqIO.write(new_records, handle, \"fasta-2line\")"
   ]
  },
  {
   "cell_type": "code",
   "execution_count": null,
   "metadata": {},
   "outputs": [],
   "source": []
  },
  {
   "cell_type": "code",
   "execution_count": null,
   "metadata": {},
   "outputs": [],
   "source": []
  },
  {
   "cell_type": "code",
   "execution_count": null,
   "metadata": {},
   "outputs": [],
   "source": []
  },
  {
   "cell_type": "code",
   "execution_count": null,
   "metadata": {},
   "outputs": [],
   "source": []
  }
 ],
 "metadata": {
  "kernelspec": {
   "display_name": "env_bio",
   "language": "python",
   "name": "python3"
  },
  "language_info": {
   "codemirror_mode": {
    "name": "ipython",
    "version": 3
   },
   "file_extension": ".py",
   "mimetype": "text/x-python",
   "name": "python",
   "nbconvert_exporter": "python",
   "pygments_lexer": "ipython3",
   "version": "3.9.5"
  },
  "orig_nbformat": 4,
  "vscode": {
   "interpreter": {
    "hash": "c737589ac25c2b5207a58295544dae93bde342e9f173b68ed1d9625ade55517f"
   }
  }
 },
 "nbformat": 4,
 "nbformat_minor": 2
}
