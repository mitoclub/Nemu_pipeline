{
 "cells": [
  {
   "cell_type": "code",
   "execution_count": 68,
   "metadata": {},
   "outputs": [],
   "source": [
    "import os\n",
    "import sys\n",
    "from collections import defaultdict, Counter\n",
    "from functools import reduce, partial\n",
    "\n",
    "import numpy as np\n",
    "import pandas as pd\n",
    "import matplotlib\n",
    "import matplotlib.pyplot as plt\n",
    "import seaborn as sns\n",
    "from scipy.stats import bootstrap\n",
    "\n",
    "from Bio import SeqIO"
   ]
  },
  {
   "cell_type": "code",
   "execution_count": 24,
   "metadata": {},
   "outputs": [],
   "source": [
    "mus_cytb = dict()\n",
    "mus_nd1 = dict()\n",
    "human_cytb = dict()\n",
    "human_nd1 = dict()"
   ]
  },
  {
   "cell_type": "code",
   "execution_count": 25,
   "metadata": {},
   "outputs": [],
   "source": [
    "mus_cytb[\"aln\"] = [str(x.seq) for x in SeqIO.parse(\"../data/exposure/mus_cytb/alignment_checked.fasta\", format=\"fasta\")]\n",
    "mus_nd1[\"aln\"] = [str(x.seq) for x in SeqIO.parse(\"../data/exposure/mus_nd1/alignment_checked.fasta\", format=\"fasta\")]\n",
    "\n",
    "human_cytb[\"aln\"] = [str(x.seq) for x in SeqIO.parse(\"../data/exposure/human_cytb/alignment_checked.fasta\", format=\"fasta\")]\n",
    "human_nd1[\"aln\"] = [str(x.seq) for x in SeqIO.parse(\"../data/exposure/human_nd1/alignment_checked.fasta\", format=\"fasta\")]"
   ]
  },
  {
   "cell_type": "code",
   "execution_count": 167,
   "metadata": {},
   "outputs": [],
   "source": [
    "def get_consensus(aln):\n",
    "    seq = []\n",
    "    for column in zip(*aln):\n",
    "        nuc = Counter(column).most_common()[0][0]\n",
    "        seq.append(nuc)\n",
    "    return \"\".join(seq)"
   ]
  },
  {
   "cell_type": "code",
   "execution_count": 168,
   "metadata": {},
   "outputs": [],
   "source": [
    "human_cytb[\"consensus\"] = get_consensus(human_cytb[\"aln\"])\n",
    "human_nd1[\"consensus\"] = get_consensus(human_nd1[\"aln\"])\n",
    "mus_cytb[\"consensus\"] = get_consensus(mus_cytb[\"aln\"])\n",
    "mus_nd1[\"consensus\"] = get_consensus(mus_nd1[\"aln\"])"
   ]
  },
  {
   "cell_type": "code",
   "execution_count": 169,
   "metadata": {},
   "outputs": [
    {
     "data": {
      "text/plain": [
       "'ATGACCCCAATACGCAAAACTAACCCCCTAATAAAATTAATTAACCACTCATTCATCGACCTCCCCACCCCATCCAACATCTCCGCATGATGAAACTTCGGCTCACTCCTTGGCGCCTGCCTGATCCTCCAAATCACCACAGGACTATTCCTAGCCATGCACTACTCACCAGACGCCTCAACCGCCTTTTCATCAATCGCCCACATCACTCGAGACGTAAATTATGGCTGAATCATCCGCTACCTTCACGCCAATGGCGCCTCAATATTCTTTATCTGCCTCTTCCTACACATCGGGCGAGGCCTATATTACGGATCATTTCTCTACTCAGAAACCTGAAACATCGGCATTATCCTCCTGCTTGCAACTATAGCAACAGCCTTCATAGGCTATGTCCTCCCGTGAGGCCAAATATCATTCTGAGGGGCCACAGTAATTACAAACTTACTATCCGCCATCCCATACATTGGGACAGACCTAGTTCAATGAATCTGAGGAGGCTACTCAGTAGACAGTCCCACCCTCACACGATTCTTTACCTTTCACTTCATCTTGCCCTTCATTATTGCAGCCCTAGCAGCACTCCACCTCCTATTCTTGCACGAAACGGGATCAAACAACCCCCTAGGAATCACCTCCCATTCCGATAAAATCACCTTCCACCCTTACTACACAATCAAAGACGCCCTCGGCTTACTTCTCTTCCTTCTCTCCTTAATGACATTAACACTATTCTCACCAGACCTCCTAGGCGACCCAGACAATTATACCCTAGCCAACCCCTTAAACACCCCTCCCCACATCAAGCCCGAATGATATTTCCTATTCGCCTACACAATTCTCCGATCCGTCCCTAACAAACTAGGAGGCGTCCTTGCCCTATTACTATCCATCCTCATCCTAGCAATAATCCCCATCCTCCATATATCCAAACAACAAAGCATAATATTTCGCCCACTAAGCCAATCACTTTATTGACTCCTAGCCGCAGACCTCCTCATTCTAACCTGAATCGGAGGACAACCAGTAAGCTACCCTTTTACCATCATTGGACAAGTAGCATCCGTACTATACTTCACAACAATCCTAATCCTAATACCAACTATCTCCCTAATTGAAAACAAAATACTCAAATGG'"
      ]
     },
     "execution_count": 169,
     "metadata": {},
     "output_type": "execute_result"
    }
   ],
   "source": [
    "human_cytb[\"consensus\"]"
   ]
  },
  {
   "cell_type": "code",
   "execution_count": 170,
   "metadata": {},
   "outputs": [
    {
     "data": {
      "text/plain": [
       "1137"
      ]
     },
     "execution_count": 170,
     "metadata": {},
     "output_type": "execute_result"
    }
   ],
   "source": [
    "len(human_cytb[\"consensus\"])"
   ]
  },
  {
   "cell_type": "code",
   "execution_count": 34,
   "metadata": {},
   "outputs": [],
   "source": [
    "human_cytb[\"ms_obs192\"] = pd.read_csv(\"../data/exposure/human_cytb/ms/ms192syn_human_cytb.tsv\", sep=\"\\t\")\n",
    "human_nd1[\"ms_obs192\"] = pd.read_csv(\"../data/exposure/human_nd1/ms/ms192syn_human_nd1.tsv\", sep=\"\\t\")\n",
    "mus_cytb[\"ms_obs192\"] = pd.read_csv(\"../data/exposure/mus_cytb/ms/ms192syn_mus_cytb.tsv\", sep=\"\\t\")\n",
    "mus_nd1[\"ms_obs192\"] = pd.read_csv(\"../data/exposure/mus_nd1/ms/ms192syn_mus_nd1.tsv\", sep=\"\\t\")"
   ]
  },
  {
   "cell_type": "code",
   "execution_count": 35,
   "metadata": {},
   "outputs": [],
   "source": [
    "human_cytb[\"ms_exp192\"] = pd.read_csv(\"../data/exposure/human_cytb/pyvolve/out/ms192syn_human_cytb_simulated.tsv\", sep=\"\\t\")\n",
    "human_nd1[\"ms_exp192\"] = pd.read_csv(\"../data/exposure/human_nd1/pyvolve/out/ms192syn_human_nd1_simulated.tsv\", sep=\"\\t\")\n",
    "mus_cytb[\"ms_exp192\"] = pd.read_csv(\"../data/exposure/mus_cytb/pyvolve/out/ms192syn_mus_cytb_simulated.tsv\", sep=\"\\t\")\n",
    "mus_nd1[\"ms_exp192\"] = pd.read_csv(\"../data/exposure/mus_nd1/pyvolve/out/ms192syn_mus_nd1_simulated.tsv\", sep=\"\\t\")"
   ]
  },
  {
   "cell_type": "code",
   "execution_count": 39,
   "metadata": {},
   "outputs": [],
   "source": [
    "human_cytb[\"mutations\"] = pd.read_csv(\"../data/exposure/human_cytb/observed_mutations_iqtree.tsv\", sep=\"\\t\").sort_values(\"PosInGene\")\n",
    "human_nd1[\"mutations\"] = pd.read_csv(\"../data/exposure/human_nd1/observed_mutations_iqtree.tsv\", sep=\"\\t\").sort_values(\"PosInGene\")\n",
    "mus_cytb[\"mutations\"] = pd.read_csv(\"../data/exposure/mus_cytb/observed_mutations_iqtree.tsv\", sep=\"\\t\").sort_values(\"PosInGene\")\n",
    "mus_nd1[\"mutations\"] = pd.read_csv(\"../data/exposure/mus_nd1/observed_mutations_iqtree.tsv\", sep=\"\\t\").sort_values(\"PosInGene\")"
   ]
  },
  {
   "cell_type": "code",
   "execution_count": 126,
   "metadata": {},
   "outputs": [],
   "source": [
    "import warnings\n",
    "warnings.filterwarnings(\"ignore\")"
   ]
  },
  {
   "cell_type": "code",
   "execution_count": 134,
   "metadata": {},
   "outputs": [],
   "source": [
    "for data in [human_cytb, human_nd1, mus_cytb, mus_nd1]:\n",
    "    df = data[\"ms_obs192\"].rename(columns={\"MutSpec\": \"MutSpec_obs\"}).merge(\n",
    "        data[\"ms_exp192\"].rename(columns={\"MutSpec\": \"MutSpec_exp\"}), on=\"Mut\"\n",
    "    )\n",
    "    df[\"diff\"] = df[\"MutSpec_obs\"] - df[\"MutSpec_exp\"]\n",
    "    diff_stats = df.groupby(\"Mut\")[\"diff\"].agg(\n",
    "        [\"mean\", \"std\", lambda x: bootstrap((x,), np.mean).confidence_interval])\n",
    "    diff_stats[\"low\"] = diff_stats[\"<lambda_0>\"].apply(lambda x: x.low)\n",
    "    diff_stats[\"high\"] = diff_stats[\"<lambda_0>\"].apply(lambda x: x.high)\n",
    "\n",
    "    data[\"diff_stats\"] = diff_stats\n",
    "    data[\"muts_positive\"] = diff_stats[(diff_stats['low'] > 5e-3) & (diff_stats[\"std\"] > 0)].index.values\n",
    "    data[\"muts_negative\"] = diff_stats[(diff_stats['high'] < -5e-3) & (diff_stats[\"std\"] > 0)].index.values\n"
   ]
  },
  {
   "cell_type": "code",
   "execution_count": 135,
   "metadata": {},
   "outputs": [
    {
     "name": "stdout",
     "output_type": "stream",
     "text": [
      "human_cytb\n",
      "muts_positive: ['A[G>A]C', 'A[T>C]C', 'C[C>T]C', 'C[G>A]T', 'G[C>T]C', 'G[C>T]T', 'G[T>C]T', 'T[C>T]C', 'T[G>A]G']\n",
      "muts_negative: ['A[A>G]A', 'A[G>A]A', 'A[G>A]T', 'C[A>G]A', 'C[C>T]G', 'C[G>A]A', 'C[T>C]G', 'G[A>G]A', 'G[C>T]A', 'G[T>C]A', 'T[A>G]A', 'T[G>A]A', 'T[G>A]T', 'T[T>C]A']\n",
      "\n",
      "human_nd1\n",
      "muts_positive: ['C[A>G]C', 'C[C>T]C', 'G[C>T]C', 'T[A>G]T', 'T[C>A]G']\n",
      "muts_negative: ['A[A>G]T', 'A[C>T]A', 'A[C>T]C', 'A[G>A]A', 'C[A>G]A', 'C[C>T]A', 'G[A>G]A', 'G[A>G]G', 'G[C>T]T', 'G[T>C]A', 'T[A>G]G', 'T[C>T]A']\n",
      "\n",
      "mus_cytb\n",
      "muts_positive: ['A[T>C]C', 'A[T>C]T', 'G[A>G]C', 'G[A>G]G', 'G[A>T]C', 'T[A>G]G', 'T[G>A]C', 'T[G>A]G', 'T[G>A]T']\n",
      "muts_negative: ['A[A>G]A', 'A[C>T]A', 'A[C>T]C', 'C[A>G]C', 'C[C>T]A', 'C[C>T]G', 'G[C>T]C', 'T[A>G]C', 'T[A>G]T', 'T[A>T]C', 'T[C>T]T']\n",
      "\n",
      "mus_nd1\n",
      "muts_positive: ['A[C>T]C', 'A[T>C]C', 'C[A>G]G', 'C[A>G]T', 'C[G>A]C', 'G[A>G]A', 'G[A>G]C', 'G[C>T]T', 'G[G>A]C', 'G[G>A]T', 'G[T>C]T', 'T[A>G]C', 'T[C>T]C', 'T[C>T]T', 'T[G>A]T']\n",
      "muts_negative: ['A[A>G]A', 'A[A>G]C', 'A[A>G]G', 'A[A>G]T', 'A[A>T]G', 'A[C>T]A', 'A[C>T]G', 'A[G>A]G', 'C[A>T]A', 'C[C>T]A', 'C[C>T]G', 'C[G>T]A', 'G[C>T]A', 'G[C>T]C', 'G[C>T]G', 'G[G>A]A', 'T[C>T]A', 'T[G>A]A']\n",
      "\n"
     ]
    }
   ],
   "source": [
    "for lbl, data in zip(['human_cytb', 'human_nd1', 'mus_cytb', 'mus_nd1'], [human_cytb, human_nd1, mus_cytb, mus_nd1]):\n",
    "    print(lbl)\n",
    "    print(\"muts_positive:\", list(data[\"muts_positive\"]))\n",
    "    print(\"muts_negative:\", list(data[\"muts_negative\"]))\n",
    "    print()"
   ]
  },
  {
   "cell_type": "code",
   "execution_count": 187,
   "metadata": {},
   "outputs": [],
   "source": [
    "fout = open(\"../data/exposure/consensus_labels.txt\", \"w\")\n",
    "for lbl, data in zip(['human_cytb', 'human_nd1', 'mus_cytb', 'mus_nd1'], [human_cytb, human_nd1, mus_cytb, mus_nd1]):\n",
    "    fout.write(\">\"+lbl+\"\\n\")\n",
    "    fout.write(data['consensus']+\"\\n\")\n",
    "    muts_plus = data[\"mutations\"][data[\"mutations\"].Mut.isin(data[\"muts_positive\"])]\n",
    "    muts_minus = data[\"mutations\"][data[\"mutations\"].Mut.isin(data[\"muts_negative\"])]\n",
    "\n",
    "    muts_plus_est = muts_plus.groupby([\"Mut\", \"PosInGene\"]).ProbaFull.sum()\n",
    "    muts_minus_est = muts_minus.groupby([\"Mut\", \"PosInGene\"]).ProbaFull.sum()\n",
    "\n",
    "    pos_plus  = set(muts_plus_est[muts_plus_est > 0.5].reset_index().PosInGene.values)\n",
    "    pos_minus = set(muts_minus_est[muts_minus_est > 0.5].reset_index().PosInGene.values)\n",
    "\n",
    "    for pos in range(1, len(data['consensus'])+1):\n",
    "        if pos in pos_plus:\n",
    "            fout.write(\"+\")\n",
    "        elif pos in pos_minus:\n",
    "            fout.write(\"-\")\n",
    "        else:\n",
    "            fout.write(\" \")\n",
    "    fout.write(\"\\n\\n\")\n",
    "\n",
    "fout.close()"
   ]
  },
  {
   "cell_type": "code",
   "execution_count": 188,
   "metadata": {},
   "outputs": [],
   "source": [
    "fout = open(\"../data/exposure/consensus_labels_syn.txt\", \"w\")\n",
    "for lbl, data in zip(['human_cytb', 'human_nd1', 'mus_cytb', 'mus_nd1'], [human_cytb, human_nd1, mus_cytb, mus_nd1]):\n",
    "    fout.write(\">\"+lbl+\"\\n\")\n",
    "    fout.write(data['consensus']+\"\\n\")\n",
    "    muts_plus = data[\"mutations\"][data[\"mutations\"].Mut.isin(data[\"muts_positive\"])]\n",
    "    muts_minus = data[\"mutations\"][data[\"mutations\"].Mut.isin(data[\"muts_negative\"])]\n",
    "\n",
    "    muts_plus_est = muts_plus[muts_plus.Label >= 1].groupby([\"Mut\", \"PosInGene\"]).ProbaFull.sum()\n",
    "    muts_minus_est = muts_minus[muts_minus.Label >= 1].groupby([\"Mut\", \"PosInGene\"]).ProbaFull.sum()\n",
    "\n",
    "    pos_plus  = set(muts_plus_est[muts_plus_est > 0.5].reset_index().PosInGene.values)\n",
    "    pos_minus = set(muts_minus_est[muts_minus_est > 0.5].reset_index().PosInGene.values)\n",
    "\n",
    "    for pos in range(1, len(data['consensus'])+1):\n",
    "        if pos in pos_plus:\n",
    "            fout.write(\"+\")\n",
    "        elif pos in pos_minus:\n",
    "            fout.write(\"-\")\n",
    "        else:\n",
    "            fout.write(\" \")\n",
    "    fout.write(\"\\n\\n\")\n",
    "\n",
    "fout.close()"
   ]
  },
  {
   "cell_type": "code",
   "execution_count": 179,
   "metadata": {},
   "outputs": [
    {
     "data": {
      "text/html": [
       "<div>\n",
       "<style scoped>\n",
       "    .dataframe tbody tr th:only-of-type {\n",
       "        vertical-align: middle;\n",
       "    }\n",
       "\n",
       "    .dataframe tbody tr th {\n",
       "        vertical-align: top;\n",
       "    }\n",
       "\n",
       "    .dataframe thead th {\n",
       "        text-align: right;\n",
       "    }\n",
       "</style>\n",
       "<table border=\"1\" class=\"dataframe\">\n",
       "  <thead>\n",
       "    <tr style=\"text-align: right;\">\n",
       "      <th></th>\n",
       "      <th>Mut</th>\n",
       "      <th>Label</th>\n",
       "      <th>PosInGene</th>\n",
       "      <th>PosInCodon</th>\n",
       "      <th>RefCodon</th>\n",
       "      <th>AltCodon</th>\n",
       "      <th>RefAa</th>\n",
       "      <th>AltAa</th>\n",
       "      <th>ProbaRef</th>\n",
       "      <th>ProbaMut</th>\n",
       "      <th>ProbaFull</th>\n",
       "      <th>RefNode</th>\n",
       "      <th>AltNode</th>\n",
       "      <th>Gene</th>\n",
       "    </tr>\n",
       "  </thead>\n",
       "  <tbody>\n",
       "    <tr>\n",
       "      <th>6509</th>\n",
       "      <td>T[C&gt;T]C</td>\n",
       "      <td>1</td>\n",
       "      <td>12</td>\n",
       "      <td>3</td>\n",
       "      <td>TTC</td>\n",
       "      <td>TTT</td>\n",
       "      <td>F</td>\n",
       "      <td>F</td>\n",
       "      <td>0.637472</td>\n",
       "      <td>0.541049</td>\n",
       "      <td>0.491054</td>\n",
       "      <td>Node52</td>\n",
       "      <td>Node53</td>\n",
       "      <td>1</td>\n",
       "    </tr>\n",
       "    <tr>\n",
       "      <th>1847</th>\n",
       "      <td>T[C&gt;T]C</td>\n",
       "      <td>1</td>\n",
       "      <td>12</td>\n",
       "      <td>3</td>\n",
       "      <td>TTC</td>\n",
       "      <td>TTT</td>\n",
       "      <td>F</td>\n",
       "      <td>F</td>\n",
       "      <td>0.815786</td>\n",
       "      <td>0.815786</td>\n",
       "      <td>0.673469</td>\n",
       "      <td>Node1</td>\n",
       "      <td>RN_129</td>\n",
       "      <td>1</td>\n",
       "    </tr>\n",
       "    <tr>\n",
       "      <th>5717</th>\n",
       "      <td>T[C&gt;T]C</td>\n",
       "      <td>1</td>\n",
       "      <td>12</td>\n",
       "      <td>3</td>\n",
       "      <td>TTC</td>\n",
       "      <td>TTT</td>\n",
       "      <td>F</td>\n",
       "      <td>F</td>\n",
       "      <td>0.691573</td>\n",
       "      <td>0.691573</td>\n",
       "      <td>0.626503</td>\n",
       "      <td>Node51</td>\n",
       "      <td>RN_130</td>\n",
       "      <td>1</td>\n",
       "    </tr>\n",
       "    <tr>\n",
       "      <th>3184</th>\n",
       "      <td>T[C&gt;T]T</td>\n",
       "      <td>1</td>\n",
       "      <td>36</td>\n",
       "      <td>3</td>\n",
       "      <td>ATC</td>\n",
       "      <td>ATT</td>\n",
       "      <td>I</td>\n",
       "      <td>I</td>\n",
       "      <td>0.672148</td>\n",
       "      <td>0.672148</td>\n",
       "      <td>0.575858</td>\n",
       "      <td>Node2</td>\n",
       "      <td>RN_117</td>\n",
       "      <td>1</td>\n",
       "    </tr>\n",
       "    <tr>\n",
       "      <th>8091</th>\n",
       "      <td>G[G&gt;A]T</td>\n",
       "      <td>2</td>\n",
       "      <td>42</td>\n",
       "      <td>3</td>\n",
       "      <td>GGG</td>\n",
       "      <td>GGA</td>\n",
       "      <td>G</td>\n",
       "      <td>G</td>\n",
       "      <td>1.000000</td>\n",
       "      <td>1.000000</td>\n",
       "      <td>0.999137</td>\n",
       "      <td>Node36</td>\n",
       "      <td>RN_53</td>\n",
       "      <td>1</td>\n",
       "    </tr>\n",
       "    <tr>\n",
       "      <th>...</th>\n",
       "      <td>...</td>\n",
       "      <td>...</td>\n",
       "      <td>...</td>\n",
       "      <td>...</td>\n",
       "      <td>...</td>\n",
       "      <td>...</td>\n",
       "      <td>...</td>\n",
       "      <td>...</td>\n",
       "      <td>...</td>\n",
       "      <td>...</td>\n",
       "      <td>...</td>\n",
       "      <td>...</td>\n",
       "      <td>...</td>\n",
       "      <td>...</td>\n",
       "    </tr>\n",
       "    <tr>\n",
       "      <th>7350</th>\n",
       "      <td>G[A&gt;G]C</td>\n",
       "      <td>1</td>\n",
       "      <td>846</td>\n",
       "      <td>3</td>\n",
       "      <td>TGA</td>\n",
       "      <td>TGG</td>\n",
       "      <td>W</td>\n",
       "      <td>W</td>\n",
       "      <td>0.983618</td>\n",
       "      <td>0.983618</td>\n",
       "      <td>0.892729</td>\n",
       "      <td>Node52</td>\n",
       "      <td>RN_115</td>\n",
       "      <td>1</td>\n",
       "    </tr>\n",
       "    <tr>\n",
       "      <th>7355</th>\n",
       "      <td>T[C&gt;T]C</td>\n",
       "      <td>1</td>\n",
       "      <td>867</td>\n",
       "      <td>3</td>\n",
       "      <td>TTC</td>\n",
       "      <td>TTT</td>\n",
       "      <td>F</td>\n",
       "      <td>F</td>\n",
       "      <td>0.582518</td>\n",
       "      <td>0.582518</td>\n",
       "      <td>0.528691</td>\n",
       "      <td>Node52</td>\n",
       "      <td>RN_115</td>\n",
       "      <td>1</td>\n",
       "    </tr>\n",
       "    <tr>\n",
       "      <th>8071</th>\n",
       "      <td>G[G&gt;A]T</td>\n",
       "      <td>0</td>\n",
       "      <td>877</td>\n",
       "      <td>1</td>\n",
       "      <td>GTA</td>\n",
       "      <td>ATA</td>\n",
       "      <td>V</td>\n",
       "      <td>M</td>\n",
       "      <td>0.999050</td>\n",
       "      <td>0.999050</td>\n",
       "      <td>0.998188</td>\n",
       "      <td>Node38</td>\n",
       "      <td>RN_76</td>\n",
       "      <td>1</td>\n",
       "    </tr>\n",
       "    <tr>\n",
       "      <th>8018</th>\n",
       "      <td>G[G&gt;A]T</td>\n",
       "      <td>0</td>\n",
       "      <td>877</td>\n",
       "      <td>1</td>\n",
       "      <td>GTA</td>\n",
       "      <td>ATA</td>\n",
       "      <td>V</td>\n",
       "      <td>M</td>\n",
       "      <td>0.987250</td>\n",
       "      <td>0.987240</td>\n",
       "      <td>0.986459</td>\n",
       "      <td>Node20</td>\n",
       "      <td>Node40</td>\n",
       "      <td>1</td>\n",
       "    </tr>\n",
       "    <tr>\n",
       "      <th>8047</th>\n",
       "      <td>T[A&gt;G]C</td>\n",
       "      <td>2</td>\n",
       "      <td>879</td>\n",
       "      <td>3</td>\n",
       "      <td>GTA</td>\n",
       "      <td>GTG</td>\n",
       "      <td>V</td>\n",
       "      <td>V</td>\n",
       "      <td>0.966240</td>\n",
       "      <td>0.960172</td>\n",
       "      <td>0.956620</td>\n",
       "      <td>Node44</td>\n",
       "      <td>Node46</td>\n",
       "      <td>1</td>\n",
       "    </tr>\n",
       "  </tbody>\n",
       "</table>\n",
       "<p>79 rows × 14 columns</p>\n",
       "</div>"
      ],
      "text/plain": [
       "          Mut  Label  PosInGene  PosInCodon RefCodon AltCodon RefAa AltAa  \\\n",
       "6509  T[C>T]C      1         12           3      TTC      TTT     F     F   \n",
       "1847  T[C>T]C      1         12           3      TTC      TTT     F     F   \n",
       "5717  T[C>T]C      1         12           3      TTC      TTT     F     F   \n",
       "3184  T[C>T]T      1         36           3      ATC      ATT     I     I   \n",
       "8091  G[G>A]T      2         42           3      GGG      GGA     G     G   \n",
       "...       ...    ...        ...         ...      ...      ...   ...   ...   \n",
       "7350  G[A>G]C      1        846           3      TGA      TGG     W     W   \n",
       "7355  T[C>T]C      1        867           3      TTC      TTT     F     F   \n",
       "8071  G[G>A]T      0        877           1      GTA      ATA     V     M   \n",
       "8018  G[G>A]T      0        877           1      GTA      ATA     V     M   \n",
       "8047  T[A>G]C      2        879           3      GTA      GTG     V     V   \n",
       "\n",
       "      ProbaRef  ProbaMut  ProbaFull RefNode AltNode  Gene  \n",
       "6509  0.637472  0.541049   0.491054  Node52  Node53     1  \n",
       "1847  0.815786  0.815786   0.673469   Node1  RN_129     1  \n",
       "5717  0.691573  0.691573   0.626503  Node51  RN_130     1  \n",
       "3184  0.672148  0.672148   0.575858   Node2  RN_117     1  \n",
       "8091  1.000000  1.000000   0.999137  Node36   RN_53     1  \n",
       "...        ...       ...        ...     ...     ...   ...  \n",
       "7350  0.983618  0.983618   0.892729  Node52  RN_115     1  \n",
       "7355  0.582518  0.582518   0.528691  Node52  RN_115     1  \n",
       "8071  0.999050  0.999050   0.998188  Node38   RN_76     1  \n",
       "8018  0.987250  0.987240   0.986459  Node20  Node40     1  \n",
       "8047  0.966240  0.960172   0.956620  Node44  Node46     1  \n",
       "\n",
       "[79 rows x 14 columns]"
      ]
     },
     "execution_count": 179,
     "metadata": {},
     "output_type": "execute_result"
    }
   ],
   "source": [
    "muts_plus[muts_plus.ProbaMut > 0.5]"
   ]
  },
  {
   "cell_type": "code",
   "execution_count": 186,
   "metadata": {},
   "outputs": [
    {
     "data": {
      "text/plain": [
       "0     182\n",
       "1     519\n",
       "2     768\n",
       "3     786\n",
       "4     519\n",
       "     ... \n",
       "57    663\n",
       "58    699\n",
       "59    748\n",
       "60    823\n",
       "61    843\n",
       "Name: PosInGene, Length: 62, dtype: int64"
      ]
     },
     "execution_count": 186,
     "metadata": {},
     "output_type": "execute_result"
    }
   ],
   "source": [
    "a = muts_plus.groupby([\"Mut\", \"PosInGene\"]).ProbaFull.sum()\n",
    "a[a > 0.5].reset_index().PosInGene"
   ]
  }
 ],
 "metadata": {
  "kernelspec": {
   "display_name": "env_bio",
   "language": "python",
   "name": "python3"
  },
  "language_info": {
   "codemirror_mode": {
    "name": "ipython",
    "version": 3
   },
   "file_extension": ".py",
   "mimetype": "text/x-python",
   "name": "python",
   "nbconvert_exporter": "python",
   "pygments_lexer": "ipython3",
   "version": "3.9.13"
  },
  "orig_nbformat": 4,
  "vscode": {
   "interpreter": {
    "hash": "1f8ac943a1f0a360cafdaeb78858a37fec7c1ca02fbfb34f84d0516267577085"
   }
  }
 },
 "nbformat": 4,
 "nbformat_minor": 2
}
