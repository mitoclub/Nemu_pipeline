{
 "cells": [
  {
   "cell_type": "code",
   "execution_count": 61,
   "metadata": {},
   "outputs": [],
   "source": [
    "import glob, os, sys, re\n",
    "from collections import defaultdict, Counter\n",
    "\n",
    "import numpy as np\n",
    "import pandas as pd\n",
    "import matplotlib.pyplot as plt\n",
    "import ete3\n",
    "from ete3 import PhyloTree\n",
    "from Bio import SeqIO\n",
    "import tqdm"
   ]
  },
  {
   "cell_type": "code",
   "execution_count": 24,
   "metadata": {},
   "outputs": [],
   "source": [
    "genes = ['A6', 'A8', 'CO1', 'CO2', 'CO3', 'Cytb', 'ND1', 'ND2', 'ND3', 'ND4', 'ND4L', 'ND5', 'ND6']\n",
    "phylum = \"Arthropoda\""
   ]
  },
  {
   "cell_type": "code",
   "execution_count": 60,
   "metadata": {},
   "outputs": [],
   "source": [
    "seqs = defaultdict(list)\n",
    "for gene in tqdm.tqdm(genes):\n",
    "    inp = f\"../data/MIDORI2/fasta/MIDORI2_UNIQ_NUC_GB253_{gene}_BLAST.fasta\"\n",
    "    for rec in SeqIO.parse(inp, \"fasta\"):\n",
    "        header = rec.description\n",
    "        \n",
    "        if phylum not in header:\n",
    "            continue\n",
    "\n",
    "        raw_acc, taxa = header.split(\"###\")\n",
    "        acc, place = re.match(\"(\\w+\\.\\d)\\.(.+)\", raw_acc).groups()\n",
    "        taxa = taxa.removeprefix(\"root_1;Eukaryota_2759;\")\n",
    "        species = \" \".join(taxa.split(\";\")[-1].split(\"_\")[:-1])\n",
    "        rec.id = acc\n",
    "        rec.description = f\"{species} {place} ###{taxa}\"\n",
    "        seqs[gene + \"__\" + species.replace(\" \", \"_\")].append(rec)\n",
    "    \n",
    "\n",
    "nseqs_min = 10\n",
    "var_gene_len = 0.2\n",
    "seqs_filtered = dict()\n",
    "for gene_species, recs in seqs.items():\n",
    "    if len(recs) < nseqs_min:\n",
    "        continue\n",
    "\n",
    "    seq_len_mean = np.mean([len(x) for x in recs])\n",
    "    recs_filtered = []\n",
    "    for rec in recs:\n",
    "        if seq_len_mean * (1 - var_gene_len) < len(rec) < seq_len_mean * (1 + var_gene_len):\n",
    "            recs_filtered.append(rec)\n",
    "\n",
    "    if len(recs_filtered) >= nseqs_min:\n",
    "        seqs_filtered[gene_species] = recs_filtered"
   ]
  },
  {
   "cell_type": "code",
   "execution_count": 63,
   "metadata": {},
   "outputs": [
    {
     "data": {
      "text/plain": [
       "19172"
      ]
     },
     "execution_count": 63,
     "metadata": {},
     "output_type": "execute_result"
    }
   ],
   "source": [
    "len(seqs_filtered)"
   ]
  },
  {
   "cell_type": "code",
   "execution_count": 62,
   "metadata": {},
   "outputs": [
    {
     "data": {
      "image/png": "[encoded data removed]",
      "text/plain": [
       "<Figure size 640x480 with 1 Axes>"
      ]
     },
     "metadata": {},
     "output_type": "display_data"
    }
   ],
   "source": [
    "plt.hist([len(v) for v in seqs.values()], bins=100, alpha=0.7, label=\"all\", color=\"blue\")\n",
    "plt.hist([len(v) for v in seqs_filtered.values()], bins=70, alpha=0.7, label=\"filtered\", color=\"orange\")\n",
    "plt.yscale(\"log\")\n",
    "plt.legend()\n",
    "plt.show()"
   ]
  }
 ],
 "metadata": {
  "kernelspec": {
   "display_name": "env_bio",
   "language": "python",
   "name": "python3"
  },
  "language_info": {
   "codemirror_mode": {
    "name": "ipython",
    "version": 3
   },
   "file_extension": ".py",
   "mimetype": "text/x-python",
   "name": "python",
   "nbconvert_exporter": "python",
   "pygments_lexer": "ipython3",
   "version": "3.9.13"
  },
  "orig_nbformat": 4
 },
 "nbformat": 4,
 "nbformat_minor": 2
}
